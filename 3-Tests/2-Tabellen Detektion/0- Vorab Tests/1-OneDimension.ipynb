{
  "nbformat": 4,
  "nbformat_minor": 0,
  "metadata": {
    "colab": {
      "name": "OneDimension.ipynb",
      "provenance": [],
      "collapsed_sections": []
    },
    "kernelspec": {
      "name": "python3",
      "display_name": "Python 3"
    }
  },
  "cells": [
    {
      "cell_type": "code",
      "metadata": {
        "id": "XGFB_Etciw2u",
        "colab_type": "code",
        "outputId": "a61b8e43-0da9-48ee-f8a3-33a4d0ac3459",
        "colab": {
          "base_uri": "https://localhost:8080/",
          "height": 207
        }
      },
      "source": [
        "# To determine which version you're using:\n",
        "!pip show tensorflow\n",
        "\n",
        "# For the latest nightly build:\n",
        "# !pip install tf-nightly\n",
        "# For the current version: \n",
        "#!pip install --upgrade tensorflow\n",
        "\n",
        "# For a specific version:\n",
        "#!pip install tensorflow==1.2\n"
      ],
      "execution_count": 28,
      "outputs": [
        {
          "output_type": "stream",
          "text": [
            "Name: tensorflow\n",
            "Version: 2.2.0rc3\n",
            "Summary: TensorFlow is an open source machine learning framework for everyone.\n",
            "Home-page: https://www.tensorflow.org/\n",
            "Author: Google Inc.\n",
            "Author-email: packages@tensorflow.org\n",
            "License: Apache 2.0\n",
            "Location: /usr/local/lib/python3.6/dist-packages\n",
            "Requires: numpy, opt-einsum, protobuf, gast, tensorboard, six, wrapt, google-pasta, grpcio, scipy, wheel, absl-py, keras-preprocessing, h5py, termcolor, astunparse, tensorflow-estimator\n",
            "Required-by: fancyimpute\n"
          ],
          "name": "stdout"
        }
      ]
    },
    {
      "cell_type": "markdown",
      "metadata": {
        "id": "SemjBMnTtQee",
        "colab_type": "text"
      },
      "source": [
        "# Import\n"
      ]
    },
    {
      "cell_type": "code",
      "metadata": {
        "id": "0m48sJBxtUCU",
        "colab_type": "code",
        "colab": {}
      },
      "source": [
        "import matplotlib.pyplot as plt\n",
        "import tensorflow as tf\n",
        "from tensorflow import keras\n",
        "import random\n",
        "import math\n",
        "\n",
        "import numpy as np\n",
        "from PIL import Image\n",
        "import os\n",
        "import cv2\n",
        "\n",
        "from skimage.util import random_noise"
      ],
      "execution_count": 0,
      "outputs": []
    },
    {
      "cell_type": "code",
      "metadata": {
        "id": "K0qpoObcu6kv",
        "colab_type": "code",
        "colab": {}
      },
      "source": [
        ""
      ],
      "execution_count": 0,
      "outputs": []
    },
    {
      "cell_type": "code",
      "metadata": {
        "id": "dp00yxVM3MCS",
        "colab_type": "code",
        "colab": {}
      },
      "source": [
        "# Create an Image with the defined Height and Width\n",
        "def createImage():\n",
        "  ArrayZiel = []\n",
        "  for y in range(0, IMG_Height):\n",
        "    tempArray = []\n",
        "    for x in range(0, IMG_Width):\n",
        "      tempArray.append(0)\n",
        "    ArrayZiel.append(np.array(tempArray))\n",
        "  return np.array(ArrayZiel)\n"
      ],
      "execution_count": 0,
      "outputs": []
    },
    {
      "cell_type": "code",
      "metadata": {
        "id": "VszsxvQJ3eEX",
        "colab_type": "code",
        "colab": {}
      },
      "source": [
        "# Add Noise to given Image\n",
        "def add_gaussian_noise(img):\n",
        "    mean = 0\n",
        "    var = 10\n",
        "    sigma = var ** 0.5\n",
        "    gaussian = np.random.normal(mean, sigma, (IMG_Height, IMG_Width))\n",
        "\n",
        "    noisy_image = np.zeros(img.shape, np.float32)\n",
        "\n",
        "    if len(img.shape) == 2:\n",
        "        noisy_image = img + gaussian\n",
        "    else:\n",
        "        noisy_image[:, :, 0] = img[:, :, 0] + gaussian\n",
        "        noisy_image[:, :, 1] = img[:, :, 1] + gaussian\n",
        "        noisy_image[:, :, 2] = img[:, :, 2] + gaussian\n",
        "\n",
        "    cv2.normalize(noisy_image, noisy_image, 0, 255, cv2.NORM_MINMAX, dtype=-1)\n",
        "    noisy_image = noisy_image.astype(np.uint8)\n",
        "\n",
        "    return noisy_image\n"
      ],
      "execution_count": 0,
      "outputs": []
    },
    {
      "cell_type": "code",
      "metadata": {
        "id": "HbJCp-Wb3ygN",
        "colab_type": "code",
        "colab": {}
      },
      "source": [
        "# nimmt das Image und fügt eine MehrDimensionale Tabelle ein.\n",
        "def addTabel_Mehrdimensional(image):\n",
        "  x1 = int(random.randint(0, IMG_Height-30))\n",
        "  x2 = int(random.randint(x1+20, IMG_Height-2))\n",
        "\n",
        "  y1 = int(random.randint(0, IMG_Width-30))\n",
        "  y2 = int(random.randint(y1+10, IMG_Width-2))\n",
        "\n",
        "  width = x2-x1\n",
        "  height = y2-y1\n",
        "\n",
        "  AnzahlTabellen = random.randint(2,5)\n",
        "\n",
        "  # Berechne Tabelle:\n",
        "  b = int(width / AnzahlTabellen)\n",
        "\n",
        "  for x in range(x1,x2):\n",
        "    for y in range(y1, y2):\n",
        "      Temp = math.sin((y / b) * 2 * math.pi)\n",
        "      if(Temp > 0):\n",
        "        image[x][y] = 50\n",
        "      else:\n",
        "        image[x][y] = 20\n",
        "\n",
        "  return image, x1, y1, x2, y2\n",
        "\n",
        "\n",
        "# nimmt das Image und fügt eine einDimensionale Tabelle ein.\n",
        "def addTabel_EinDimensional(image):\n",
        "  x1 = int(random.randint(0, IMG_Width-22))\n",
        "  x2 = int(random.randint(x1+20, IMG_Width-2))\n",
        "\n",
        "  width = x2-x1\n",
        "\n",
        "  AnzahlTabellen = random.randint(2,5)\n",
        "\n",
        "  # Berechne Tabelle:\n",
        "  b = int(width / AnzahlTabellen)\n",
        "\n",
        "  for x in range(x1,x2):\n",
        "    y = 0\n",
        "    Temp = math.sin(((x-x1) / b) * 2 * math.pi)\n",
        "    if(Temp > 0):\n",
        "      image[y][x] = 100\n",
        "    else:\n",
        "      image[y][x] = 0\n",
        "\n",
        "  return image, x1, x2"
      ],
      "execution_count": 0,
      "outputs": []
    },
    {
      "cell_type": "code",
      "metadata": {
        "id": "fsLOMOul8RLW",
        "colab_type": "code",
        "colab": {}
      },
      "source": [
        "def CreateLabelData_EinDimensional(x1, x2):\n",
        "  Array = []\n",
        "\n",
        "  Array.append(x1)\n",
        "  Array.append(x2)\n",
        "  return Array\n",
        "\n",
        "\n",
        "def CreateLabelData_MehrDimensional(x1, y1, x2, y2):\n",
        "  Array = []\n",
        "\n",
        "  Array1 = []\n",
        "  Array1.append(x1)\n",
        "  Array1.append(y1)\n",
        "  Array1 = np.asarray(Array1)\n",
        "  Array.append(Array1)\n",
        "\n",
        "  Array1 = []\n",
        "  Array1.append(x2)\n",
        "  Array1.append(y2)\n",
        "  Array1 = np.asarray(Array1)\n",
        "  Array.append(Array1)\n",
        "\n",
        "  Array = np.asarray(Array)\n",
        "  return Array"
      ],
      "execution_count": 0,
      "outputs": []
    },
    {
      "cell_type": "code",
      "metadata": {
        "id": "BFHrqrjuRbyN",
        "colab_type": "code",
        "colab": {}
      },
      "source": [
        "# Baue noch einen Callback ein, damit das Training (hoffentlich) weniger Zeit in anspruch nimmt\n",
        "# Soll bei einer festgelegten Loss das Training unterbrechen\n",
        "\n",
        "class myCallback(tf.keras.callbacks.Callback):\n",
        "  def on_epoch_end(self, epoch, logs = {}):\n",
        "    if logs.get('loss') < LossZumAbbruchDesTrainings:\n",
        "      print(\"\\n Low loss so cancelling the training\")\n",
        "      self.model.stop_training = True"
      ],
      "execution_count": 0,
      "outputs": []
    },
    {
      "cell_type": "markdown",
      "metadata": {
        "id": "sFwfP3eatLjW",
        "colab_type": "text"
      },
      "source": [
        "# Erster Test: Ein Dimensional\n"
      ]
    },
    {
      "cell_type": "code",
      "metadata": {
        "id": "7JdJMpGB5S2R",
        "colab_type": "code",
        "colab": {}
      },
      "source": [
        "# Variablen\n",
        "\n",
        "IMG_Height = 1\n",
        "IMG_Width = 64\n",
        "\n",
        "AnzahlAnTrainDaten = 1000\n",
        "AnzahlAnTestDaten = 1000\n",
        "DropoutRate = 0.5\n",
        "\n",
        "LossZumAbbruchDesTrainings = 0.7"
      ],
      "execution_count": 0,
      "outputs": []
    },
    {
      "cell_type": "markdown",
      "metadata": {
        "id": "vgvwjLR05T8Z",
        "colab_type": "text"
      },
      "source": [
        "## 1) Daten Erzeugen"
      ]
    },
    {
      "cell_type": "code",
      "metadata": {
        "id": "gdKP9TEKuzvw",
        "colab_type": "code",
        "outputId": "03e76e0f-786e-4dbd-de91-2aa83bc3b42f",
        "colab": {
          "base_uri": "https://localhost:8080/",
          "height": 57
        }
      },
      "source": [
        "# Bild Erzeuger\n",
        "image = createImage()\n",
        "\n",
        "plt.imshow(image)\n",
        "plt.show()"
      ],
      "execution_count": 35,
      "outputs": [
        {
          "output_type": "display_data",
          "data": {
            "image/png": "[encoded data removed]",
            "text/plain": [
              "<Figure size 432x288 with 1 Axes>"
            ]
          },
          "metadata": {
            "tags": [],
            "needs_background": "light"
          }
        }
      ]
    },
    {
      "cell_type": "code",
      "metadata": {
        "id": "DxyXS5ZhtPB0",
        "colab_type": "code",
        "outputId": "3543d410-a8f5-48b3-a4b2-4488c1e8a02a",
        "colab": {
          "base_uri": "https://localhost:8080/",
          "height": 57
        }
      },
      "source": [
        "image = add_gaussian_noise(image)\n",
        "\n",
        "\n",
        "plt.imshow(image)\n",
        "plt.show()"
      ],
      "execution_count": 36,
      "outputs": [
        {
          "output_type": "display_data",
          "data": {
            "image/png": "[encoded data removed]",
            "text/plain": [
              "<Figure size 432x288 with 1 Axes>"
            ]
          },
          "metadata": {
            "tags": [],
            "needs_background": "light"
          }
        }
      ]
    },
    {
      "cell_type": "code",
      "metadata": {
        "id": "G102WCye4Q4K",
        "colab_type": "code",
        "outputId": "2ea6d42a-52e8-4d9a-e543-3c82e8f0c415",
        "colab": {
          "base_uri": "https://localhost:8080/",
          "height": 74
        }
      },
      "source": [
        "# add Table\n",
        "image, x1,x2 = addTabel_EinDimensional(image)\n",
        "\n",
        "plt.imshow(image)\n",
        "plt.show()\n",
        "\n",
        "print(str(x1) + '-----' + str(x2))"
      ],
      "execution_count": 37,
      "outputs": [
        {
          "output_type": "display_data",
          "data": {
            "image/png": "[encoded data removed]",
            "text/plain": [
              "<Figure size 432x288 with 1 Axes>"
            ]
          },
          "metadata": {
            "tags": [],
            "needs_background": "light"
          }
        },
        {
          "output_type": "stream",
          "text": [
            "7-----31\n"
          ],
          "name": "stdout"
        }
      ]
    },
    {
      "cell_type": "code",
      "metadata": {
        "id": "MzqngYse4XJc",
        "colab_type": "code",
        "colab": {}
      },
      "source": [
        "TrainDataset = []\n",
        "TrainLabelSet = []\n",
        "\n",
        "TestDataSet = []\n",
        "TestLabelSet = []"
      ],
      "execution_count": 0,
      "outputs": []
    },
    {
      "cell_type": "code",
      "metadata": {
        "id": "AhyrXi3hYCtO",
        "colab_type": "code",
        "colab": {}
      },
      "source": [
        "# Erstellen der Train Daten\n",
        "for i in range(0, AnzahlAnTrainDaten):\n",
        "  image = createImage()\n",
        "  # image = add_gaussian_noise(image)\n",
        "  image, x1, x2 = addTabel_EinDimensional(image)\n",
        "  labelArray = CreateLabelData_EinDimensional(x1, x2)\n",
        "  TrainDataset.append(np.asarray(image))\n",
        "  TrainLabelSet.append(np.asarray(labelArray))"
      ],
      "execution_count": 0,
      "outputs": []
    },
    {
      "cell_type": "code",
      "metadata": {
        "id": "qcHRIuq4cW8a",
        "colab_type": "code",
        "colab": {}
      },
      "source": [
        "# Erstellen der TestDaten\n",
        "for i in range(0, AnzahlAnTestDaten):\n",
        "  image = createImage()\n",
        "  # image = add_gaussian_noise(image)\n",
        "  image, x1, x2 = addTabel_EinDimensional(image)\n",
        "  labelArray = CreateLabelData_EinDimensional(x1, x2)\n",
        "  TestDataSet.append(np.asarray(image))\n",
        "  TestLabelSet.append(np.asarray(labelArray))"
      ],
      "execution_count": 0,
      "outputs": []
    },
    {
      "cell_type": "code",
      "metadata": {
        "id": "y_A_u23efFed",
        "colab_type": "code",
        "outputId": "7007a255-8608-451f-8aa2-96f4011d76be",
        "colab": {
          "base_uri": "https://localhost:8080/",
          "height": 51
        }
      },
      "source": [
        "TrainDataset = np.asarray(TrainDataset, dtype=np.float32)\n",
        "TrainLabelSet = np.asarray(TrainLabelSet, dtype=np.float32)\n",
        "print(TrainDataset.shape)\n",
        "\n",
        "TestDataSet = np.asarray(TestDataSet, dtype=np.float32)\n",
        "TestLabelSet = np.asarray(TestLabelSet, dtype=np.float32)\n",
        "print(TestDataSet.shape)"
      ],
      "execution_count": 41,
      "outputs": [
        {
          "output_type": "stream",
          "text": [
            "(1000, 1, 64)\n",
            "(1000, 1, 64)\n"
          ],
          "name": "stdout"
        }
      ]
    },
    {
      "cell_type": "code",
      "metadata": {
        "id": "4kjoUg81bQMk",
        "colab_type": "code",
        "colab": {}
      },
      "source": [
        "input = keras.layers.Input((IMG_Height, IMG_Width, 1))\n",
        "\n",
        "S1 = keras.layers.Flatten()(input)\n",
        "S2 = keras.layers.Dense(IMG_Width, activation='softmax')(S1)\n",
        "\n",
        "S2 = keras.layers.Dense(IMG_Width, activation='relu')(S2)\n",
        "\n",
        "\n",
        "Output = keras.layers.Dense(2, activation = 'relu')(S2)\n",
        "\n",
        "model = keras.models.Model(input, Output)"
      ],
      "execution_count": 0,
      "outputs": []
    },
    {
      "cell_type": "code",
      "metadata": {
        "id": "sFXBdRpra_Qy",
        "colab_type": "code",
        "colab": {}
      },
      "source": [
        "model.compile(loss='binary_crossentropy',\n",
        "            optimizer='adam',\n",
        "            metrics=['accuracy'])\n",
        "\n"
      ],
      "execution_count": 0,
      "outputs": []
    },
    {
      "cell_type": "code",
      "metadata": {
        "id": "rfxwq-pt4AcI",
        "colab_type": "code",
        "colab": {
          "base_uri": "https://localhost:8080/",
          "height": 533
        },
        "outputId": "b5a215f8-3b5c-4578-d887-7d33cc5ff2b7"
      },
      "source": [
        "tf.keras.utils.plot_model(model, show_shapes=True)"
      ],
      "execution_count": 44,
      "outputs": [
        {
          "output_type": "execute_result",
          "data": {
            "image/png": "[encoded data removed]",
            "text/plain": [
              "<IPython.core.display.Image object>"
            ]
          },
          "metadata": {
            "tags": []
          },
          "execution_count": 44
        }
      ]
    },
    {
      "cell_type": "code",
      "metadata": {
        "id": "YjZ8KY7Dumo3",
        "colab_type": "code",
        "outputId": "5a85a1dc-190a-4505-83d0-0f9afece0143",
        "colab": {
          "base_uri": "https://localhost:8080/",
          "height": 1000
        }
      },
      "source": [
        "callbacks = myCallback()\n",
        "\n",
        "model.fit(x = TrainDataset, y = TrainLabelSet, shuffle=True, batch_size=10,epochs=30, validation_split=0.3, callbacks = [callbacks])     "
      ],
      "execution_count": 49,
      "outputs": [
        {
          "output_type": "stream",
          "text": [
            "Epoch 1/30\n",
            "70/70 [==============================] - 0s 2ms/step - loss: -534.2789 - accuracy: 0.6486 - val_loss: -521.5983 - val_accuracy: 0.6533\n",
            "Epoch 2/30\n",
            "70/70 [==============================] - 0s 2ms/step - loss: -534.2787 - accuracy: 0.6486 - val_loss: -521.5983 - val_accuracy: 0.6533\n",
            "Epoch 3/30\n",
            "70/70 [==============================] - 0s 2ms/step - loss: -534.2789 - accuracy: 0.6486 - val_loss: -521.5983 - val_accuracy: 0.6533\n",
            "Epoch 4/30\n",
            "70/70 [==============================] - 0s 2ms/step - loss: -534.2788 - accuracy: 0.6486 - val_loss: -521.5983 - val_accuracy: 0.6533\n",
            "Epoch 5/30\n",
            "70/70 [==============================] - 0s 2ms/step - loss: -534.2789 - accuracy: 0.6486 - val_loss: -521.5983 - val_accuracy: 0.6533\n",
            "Epoch 6/30\n",
            "70/70 [==============================] - 0s 2ms/step - loss: -534.2787 - accuracy: 0.6486 - val_loss: -521.5983 - val_accuracy: 0.6533\n",
            "Epoch 7/30\n",
            "70/70 [==============================] - 0s 2ms/step - loss: -534.2789 - accuracy: 0.6486 - val_loss: -521.5983 - val_accuracy: 0.6533\n",
            "Epoch 8/30\n",
            "70/70 [==============================] - 0s 2ms/step - loss: -534.2789 - accuracy: 0.6486 - val_loss: -521.5983 - val_accuracy: 0.6533\n",
            "Epoch 9/30\n",
            "70/70 [==============================] - 0s 2ms/step - loss: -534.2789 - accuracy: 0.6486 - val_loss: -521.5983 - val_accuracy: 0.6533\n",
            "Epoch 10/30\n",
            "70/70 [==============================] - 0s 2ms/step - loss: -534.2788 - accuracy: 0.6486 - val_loss: -521.5983 - val_accuracy: 0.6533\n",
            "Epoch 11/30\n",
            "70/70 [==============================] - 0s 2ms/step - loss: -534.2789 - accuracy: 0.6486 - val_loss: -521.5983 - val_accuracy: 0.6533\n",
            "Epoch 12/30\n",
            "70/70 [==============================] - 0s 2ms/step - loss: -534.2790 - accuracy: 0.6486 - val_loss: -521.5983 - val_accuracy: 0.6533\n",
            "Epoch 13/30\n",
            "70/70 [==============================] - 0s 2ms/step - loss: -534.2788 - accuracy: 0.6486 - val_loss: -521.5983 - val_accuracy: 0.6533\n",
            "Epoch 14/30\n",
            "70/70 [==============================] - 0s 2ms/step - loss: -534.2788 - accuracy: 0.6486 - val_loss: -521.5983 - val_accuracy: 0.6533\n",
            "Epoch 15/30\n",
            "70/70 [==============================] - 0s 3ms/step - loss: -534.2789 - accuracy: 0.6486 - val_loss: -521.5983 - val_accuracy: 0.6533\n",
            "Epoch 16/30\n",
            "70/70 [==============================] - 0s 2ms/step - loss: -534.2787 - accuracy: 0.6486 - val_loss: -521.5983 - val_accuracy: 0.6533\n",
            "Epoch 17/30\n",
            "70/70 [==============================] - 0s 2ms/step - loss: -534.2788 - accuracy: 0.6486 - val_loss: -521.5983 - val_accuracy: 0.6533\n",
            "Epoch 18/30\n",
            "70/70 [==============================] - 0s 2ms/step - loss: -534.2788 - accuracy: 0.6486 - val_loss: -521.5983 - val_accuracy: 0.6533\n",
            "Epoch 19/30\n",
            "70/70 [==============================] - 0s 2ms/step - loss: -534.2788 - accuracy: 0.6486 - val_loss: -521.5983 - val_accuracy: 0.6533\n",
            "Epoch 20/30\n",
            "70/70 [==============================] - 0s 2ms/step - loss: -534.2789 - accuracy: 0.6486 - val_loss: -521.5983 - val_accuracy: 0.6533\n",
            "Epoch 21/30\n",
            "70/70 [==============================] - 0s 2ms/step - loss: -534.2788 - accuracy: 0.6486 - val_loss: -521.5983 - val_accuracy: 0.6533\n",
            "Epoch 22/30\n",
            "70/70 [==============================] - 0s 2ms/step - loss: -534.2787 - accuracy: 0.6486 - val_loss: -521.5983 - val_accuracy: 0.6533\n",
            "Epoch 23/30\n",
            "70/70 [==============================] - 0s 2ms/step - loss: -534.2789 - accuracy: 0.6486 - val_loss: -521.5983 - val_accuracy: 0.6533\n",
            "Epoch 24/30\n",
            "70/70 [==============================] - 0s 2ms/step - loss: -534.2789 - accuracy: 0.6486 - val_loss: -521.5983 - val_accuracy: 0.6533\n",
            "Epoch 25/30\n",
            "70/70 [==============================] - 0s 2ms/step - loss: -534.2788 - accuracy: 0.6486 - val_loss: -521.5983 - val_accuracy: 0.6533\n",
            "Epoch 26/30\n",
            "70/70 [==============================] - 0s 2ms/step - loss: -534.2788 - accuracy: 0.6486 - val_loss: -521.5983 - val_accuracy: 0.6533\n",
            "Epoch 27/30\n",
            "70/70 [==============================] - 0s 2ms/step - loss: -534.2788 - accuracy: 0.6486 - val_loss: -521.5983 - val_accuracy: 0.6533\n",
            "Epoch 28/30\n",
            "70/70 [==============================] - 0s 2ms/step - loss: -534.2789 - accuracy: 0.6486 - val_loss: -521.5983 - val_accuracy: 0.6533\n",
            "Epoch 29/30\n",
            "70/70 [==============================] - 0s 2ms/step - loss: -534.2788 - accuracy: 0.6486 - val_loss: -521.5983 - val_accuracy: 0.6533\n",
            "Epoch 30/30\n",
            "70/70 [==============================] - 0s 2ms/step - loss: -534.2789 - accuracy: 0.6486 - val_loss: -521.5983 - val_accuracy: 0.6533\n"
          ],
          "name": "stdout"
        },
        {
          "output_type": "execute_result",
          "data": {
            "text/plain": [
              "<tensorflow.python.keras.callbacks.History at 0x7f22a9573cc0>"
            ]
          },
          "metadata": {
            "tags": []
          },
          "execution_count": 49
        }
      ]
    },
    {
      "cell_type": "code",
      "metadata": {
        "id": "ZICxmZ98b4cO",
        "colab_type": "code",
        "outputId": "5e4bbf47-cf55-4131-885e-dd0664f8778f",
        "colab": {
          "base_uri": "https://localhost:8080/",
          "height": 51
        }
      },
      "source": [
        "loss, acc = model.evaluate(TestDataSet, TestLabelSet, verbose=2)\n",
        "\n",
        "print(acc)"
      ],
      "execution_count": 50,
      "outputs": [
        {
          "output_type": "stream",
          "text": [
            "32/32 - 0s - loss: -5.3501e+02 - accuracy: 0.6380\n",
            "0.6380000114440918\n"
          ],
          "name": "stdout"
        }
      ]
    },
    {
      "cell_type": "code",
      "metadata": {
        "id": "3XNgeYEYXFxA",
        "colab_type": "code",
        "outputId": "2a299990-9ab6-47a9-959c-33ca8f44f95d",
        "colab": {
          "base_uri": "https://localhost:8080/",
          "height": 323
        }
      },
      "source": [
        "model.summary()"
      ],
      "execution_count": 51,
      "outputs": [
        {
          "output_type": "stream",
          "text": [
            "Model: \"model_1\"\n",
            "_________________________________________________________________\n",
            "Layer (type)                 Output Shape              Param #   \n",
            "=================================================================\n",
            "input_2 (InputLayer)         [(None, 1, 64, 1)]        0         \n",
            "_________________________________________________________________\n",
            "flatten_1 (Flatten)          (None, 64)                0         \n",
            "_________________________________________________________________\n",
            "dense_3 (Dense)              (None, 64)                4160      \n",
            "_________________________________________________________________\n",
            "dense_4 (Dense)              (None, 64)                4160      \n",
            "_________________________________________________________________\n",
            "dense_5 (Dense)              (None, 2)                 130       \n",
            "=================================================================\n",
            "Total params: 8,450\n",
            "Trainable params: 8,450\n",
            "Non-trainable params: 0\n",
            "_________________________________________________________________\n"
          ],
          "name": "stdout"
        }
      ]
    },
    {
      "cell_type": "code",
      "metadata": {
        "id": "fpe4wd4qV0l5",
        "colab_type": "code",
        "outputId": "0b58ad7f-497c-4595-8430-e469294558ba",
        "colab": {
          "base_uri": "https://localhost:8080/",
          "height": 125
        }
      },
      "source": [
        "image = createImage()\n",
        "# image = add_gaussian_noise(image)\n",
        "newImage, x1, x2 = addTabel_EinDimensional(image)\n",
        "labelArray = CreateLabelData_EinDimensional(x1, x2)\n",
        "\n",
        "Array = []\n",
        "Array.append(newImage)\n",
        "\n",
        "newImage = np.asarray(Array, dtype=np.float32)\n",
        "print(newImage.shape)\n",
        "\n",
        "prediction = model.predict(newImage)\n",
        "prediction = np.asarray(prediction, dtype=np.float32)\n",
        "\n",
        "print(prediction.shape)\n",
        "\n",
        "plt.imshow(newImage[0])\n",
        "plt.show()\n",
        "\n",
        "print(labelArray)\n",
        "print(prediction[0])\n"
      ],
      "execution_count": 54,
      "outputs": [
        {
          "output_type": "stream",
          "text": [
            "(1, 1, 64)\n",
            "(1, 2)\n"
          ],
          "name": "stdout"
        },
        {
          "output_type": "display_data",
          "data": {
            "image/png": "[encoded data removed]",
            "text/plain": [
              "<Figure size 432x288 with 1 Axes>"
            ]
          },
          "metadata": {
            "tags": [],
            "needs_background": "light"
          }
        },
        {
          "output_type": "stream",
          "text": [
            "[26, 53]\n",
            "[1.5786343 1.6263463]\n"
          ],
          "name": "stdout"
        }
      ]
    }
  ]
}