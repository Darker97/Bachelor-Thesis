{
  "nbformat": 4,
  "nbformat_minor": 0,
  "metadata": {
    "colab": {
      "name": "Tabellenerkennung1.ipynb",
      "provenance": [],
      "collapsed_sections": [],
      "toc_visible": true,
      "machine_shape": "hm"
    },
    "kernelspec": {
      "name": "python3",
      "display_name": "Python 3"
    }
  },
  "cells": [
    {
      "cell_type": "code",
      "metadata": {
        "id": "XGFB_Etciw2u",
        "colab_type": "code",
        "outputId": "1891c527-0f76-4f73-e18d-cd5791762987",
        "colab": {
          "base_uri": "https://localhost:8080/",
          "height": 207
        }
      },
      "source": [
        "# To determine which version you're using:\n",
        "!pip show tensorflow\n",
        "\n",
        "# For the latest nightly build:\n",
        "# !pip install tf-nightly\n",
        "# For the current version: \n",
        "#!pip install --upgrade tensorflow\n",
        "\n",
        "# For a specific version:\n",
        "#!pip install tensorflow==1.2\n"
      ],
      "execution_count": 1,
      "outputs": [
        {
          "output_type": "stream",
          "text": [
            "Name: tensorflow\n",
            "Version: 2.2.0rc3\n",
            "Summary: TensorFlow is an open source machine learning framework for everyone.\n",
            "Home-page: https://www.tensorflow.org/\n",
            "Author: Google Inc.\n",
            "Author-email: packages@tensorflow.org\n",
            "License: Apache 2.0\n",
            "Location: /usr/local/lib/python3.6/dist-packages\n",
            "Requires: numpy, protobuf, termcolor, six, astunparse, gast, wrapt, wheel, h5py, keras-preprocessing, google-pasta, grpcio, opt-einsum, scipy, tensorflow-estimator, tensorboard, absl-py\n",
            "Required-by: fancyimpute\n"
          ],
          "name": "stdout"
        }
      ]
    },
    {
      "cell_type": "markdown",
      "metadata": {
        "id": "SemjBMnTtQee",
        "colab_type": "text"
      },
      "source": [
        "# Import\n"
      ]
    },
    {
      "cell_type": "code",
      "metadata": {
        "id": "0m48sJBxtUCU",
        "colab_type": "code",
        "colab": {}
      },
      "source": [
        "import matplotlib.pyplot as plt\n",
        "import matplotlib.patches as patch\n",
        "import tensorflow as tf\n",
        "from tensorflow import keras\n",
        "import random\n",
        "import math\n",
        "\n",
        "import numpy as np\n",
        "from PIL import Image\n",
        "import os\n",
        "import cv2\n",
        "\n",
        "from skimage.util import random_noise"
      ],
      "execution_count": 0,
      "outputs": []
    },
    {
      "cell_type": "code",
      "metadata": {
        "id": "dp00yxVM3MCS",
        "colab_type": "code",
        "colab": {}
      },
      "source": [
        "# Create an Image with the defined Height and Width\n",
        "def createImage():\n",
        "  ArrayZiel = []\n",
        "  for y in range(0, IMG_Height):\n",
        "    tempArray = []\n",
        "    for x in range(0, IMG_Width):\n",
        "      tempArray.append(0)\n",
        "    ArrayZiel.append(np.array(tempArray))\n",
        "  return np.array(ArrayZiel)\n"
      ],
      "execution_count": 0,
      "outputs": []
    },
    {
      "cell_type": "code",
      "metadata": {
        "id": "VszsxvQJ3eEX",
        "colab_type": "code",
        "colab": {}
      },
      "source": [
        "# Add Noise to given Image\n",
        "def add_gaussian_noise(img):\n",
        "    mean = 0\n",
        "    var = 10\n",
        "    sigma = var ** 0.5\n",
        "    gaussian = np.random.normal(mean, sigma, (IMG_Height, IMG_Width))\n",
        "\n",
        "    noisy_image = np.zeros(img.shape, np.float32)\n",
        "\n",
        "    if len(img.shape) == 2:\n",
        "        noisy_image = img + gaussian\n",
        "    else:\n",
        "        noisy_image[:, :, 0] = img[:, :, 0] + gaussian\n",
        "        noisy_image[:, :, 1] = img[:, :, 1] + gaussian\n",
        "        noisy_image[:, :, 2] = img[:, :, 2] + gaussian\n",
        "\n",
        "    cv2.normalize(noisy_image, noisy_image, 0, 255, cv2.NORM_MINMAX, dtype=-1)\n",
        "    noisy_image = noisy_image.astype(np.uint8)\n",
        "\n",
        "    return noisy_image\n"
      ],
      "execution_count": 0,
      "outputs": []
    },
    {
      "cell_type": "code",
      "metadata": {
        "id": "HbJCp-Wb3ygN",
        "colab_type": "code",
        "colab": {}
      },
      "source": [
        "# nimmt das Image und fügt eine MehrDimensionale Tabelle ein.\n",
        "def addTabel_Mehrdimensional(image):\n",
        "  x1 = int(random.randint(0, IMG_Width-22))\n",
        "  x2 = int(random.randint(x1+20, IMG_Width-2))\n",
        "\n",
        "  y1 = int(random.randint(1, IMG_Height/2))\n",
        "  y2 = int(random.randint(y1+1, IMG_Height-2))\n",
        "\n",
        "  Tabelle = np.zeros(image.shape, np.float32)\n",
        "\n",
        "  width = x2-x1\n",
        "  height = y2-y1\n",
        "\n",
        "  AnzahlTabellen = random.randint(2,5)\n",
        "\n",
        "  # Berechne Tabelle:\n",
        "  b = int(width / AnzahlTabellen)\n",
        "\n",
        "  for x in range(x1,x2):\n",
        "    for y in range(y1, y2):\n",
        "      Temp = math.sin(((x-x1) / b) * 2 * math.pi)\n",
        "      if(Temp > 0):\n",
        "        image[y][x] = 100\n",
        "        Tabelle[y][x] = 1\n",
        "      else:\n",
        "        image[y][x] = 100\n",
        "        Tabelle[y][x] = 1\n",
        "\n",
        "  # Addieren beide Bilder zusammen\n",
        "  # image = np.stack((image, image, image), axis=2)\n",
        "  # Tabelle = np.stack((Tabelle, Tabelle, Tabelle), axis=2)\n",
        "\n",
        "  # image = np.resize(image, (IMG_Height, IMG_Width, 3))\n",
        "  # Tabelle = np.resize(Tabelle, (IMG_Height, IMG_Width, 3))\n",
        "\n",
        "  return image, x1, y1, x2, y2, Tabelle"
      ],
      "execution_count": 0,
      "outputs": []
    },
    {
      "cell_type": "code",
      "metadata": {
        "id": "fsLOMOul8RLW",
        "colab_type": "code",
        "colab": {}
      },
      "source": [
        "def CreateLabelData_MehrDimensional(x1, y1, x2, y2):\n",
        "  Array = []\n",
        "\n",
        "  Array1 = []\n",
        "  Array1.append(x1)\n",
        "  Array1.append(y1)\n",
        "  Array1.append(x2-x1)\n",
        "  Array1.append(y2-y1)\n",
        "  Array1 = np.asarray(Array1)\n",
        "  return Array1\n",
        "  \n",
        "  Array.append(Array1)\n",
        "\n",
        "  Array1 = []\n",
        "  Array1.append(x2-x1)\n",
        "  Array1.append(y2-y1)\n",
        "  Array1 = np.asarray(Array1)\n",
        "  Array.append(Array1)\n",
        "\n",
        "  Array = np.asarray(Array)\n",
        "  return Array"
      ],
      "execution_count": 0,
      "outputs": []
    },
    {
      "cell_type": "code",
      "metadata": {
        "id": "ovel2nVy5NCE",
        "colab_type": "code",
        "colab": {}
      },
      "source": [
        "def TrainDataGenerator(AnzahlAnDaten):\n",
        "  TrainDataset = []\n",
        "  TrainLabelSet = []\n",
        "  TrainTabelSet = []\n",
        "\n",
        "  for i in range(0, AnzahlAnDaten):\n",
        "    image = createImage()\n",
        "    # image = add_gaussian_noise(image)\n",
        "    image, x1,y1,x2,y2,tabel = addTabel_Mehrdimensional(image)\n",
        "    TrainTabelSet.append(tabel)\n",
        "    labelArray = CreateLabelData_MehrDimensional(x1, y1, x2, y2)\n",
        "    TrainDataset.append(np.asarray(image))\n",
        "    TrainLabelSet.append(np.asarray(labelArray))\n",
        "\n",
        "  TrainDataset = np.asarray(TrainDataset, dtype=np.float32)\n",
        "  TrainLabelSet = np.asarray(TrainLabelSet, dtype=np.float32)\n",
        "  TrainTabelSet = np.asarray(TrainTabelSet, dtype=np.float32)\n",
        "\n",
        "  return TrainDataset, TrainLabelSet, TrainTabelSet"
      ],
      "execution_count": 0,
      "outputs": []
    },
    {
      "cell_type": "markdown",
      "metadata": {
        "id": "sFwfP3eatLjW",
        "colab_type": "text"
      },
      "source": [
        "# Erster Test: Ein Dimensional\n"
      ]
    },
    {
      "cell_type": "code",
      "metadata": {
        "id": "7JdJMpGB5S2R",
        "colab_type": "code",
        "colab": {}
      },
      "source": [
        "# Variablen\n",
        "\n",
        "IMG_Height = 32\n",
        "IMG_Width = 64\n",
        "\n",
        "AnzahlAnTrainDaten = 120000\n",
        "AnzahlAnTestDaten = 1000\n",
        "DropoutRate = 0.5\n",
        "\n",
        "LossZumAbbruchDesTrainings = 0.7"
      ],
      "execution_count": 0,
      "outputs": []
    },
    {
      "cell_type": "markdown",
      "metadata": {
        "id": "vgvwjLR05T8Z",
        "colab_type": "text"
      },
      "source": [
        "## 1) Daten Erzeugen"
      ]
    },
    {
      "cell_type": "code",
      "metadata": {
        "id": "gdKP9TEKuzvw",
        "colab_type": "code",
        "outputId": "09afa9d6-7eff-4f36-8b6a-a45d3ac98d37",
        "colab": {
          "base_uri": "https://localhost:8080/",
          "height": 468
        }
      },
      "source": [
        "TrainDataset, TrainLabelSet, TrainTabelSet = TrainDataGenerator(AnzahlAnTrainDaten)\n",
        "print(TrainDataset.shape)\n",
        "print(TrainTabelSet.shape)\n",
        "\n",
        "plt.imshow(TrainDataset[0])\n",
        "plt.show()\n",
        "\n",
        "plt.imshow(TrainTabelSet[0])\n",
        "plt.show()\n",
        "\n",
        "print(TrainLabelSet[0])"
      ],
      "execution_count": 10,
      "outputs": [
        {
          "output_type": "stream",
          "text": [
            "(120000, 32, 64)\n",
            "(120000, 32, 64)\n"
          ],
          "name": "stdout"
        },
        {
          "output_type": "display_data",
          "data": {
            "image/png": "[encoded data removed]",
            "text/plain": [
              "<Figure size 432x288 with 1 Axes>"
            ]
          },
          "metadata": {
            "tags": [],
            "needs_background": "light"
          }
        },
        {
          "output_type": "display_data",
          "data": {
            "image/png": "[encoded data removed]",
            "text/plain": [
              "<Figure size 432x288 with 1 Axes>"
            ]
          },
          "metadata": {
            "tags": [],
            "needs_background": "light"
          }
        },
        {
          "output_type": "stream",
          "text": [
            "[29. 15. 22.  8.]\n"
          ],
          "name": "stdout"
        }
      ]
    },
    {
      "cell_type": "code",
      "metadata": {
        "id": "7yJq61e8a29y",
        "colab_type": "code",
        "outputId": "fc1d7866-5a0e-4145-fda6-b84d5ad15937",
        "colab": {
          "base_uri": "https://localhost:8080/",
          "height": 34
        }
      },
      "source": [
        "# Reshape and normalize the image data to mean 0 and std 1. \n",
        "X = (TrainDataset.reshape(AnzahlAnTrainDaten, -1) - np.mean(TrainDataset)) / np.std(TrainDataset)\n",
        "X.shape, np.mean(X), np.std(X)"
      ],
      "execution_count": 11,
      "outputs": [
        {
          "output_type": "execute_result",
          "data": {
            "text/plain": [
              "((120000, 2048), 1.0890981e-06, 1.0000012)"
            ]
          },
          "metadata": {
            "tags": []
          },
          "execution_count": 11
        }
      ]
    },
    {
      "cell_type": "code",
      "metadata": {
        "id": "jFqYf07VUvds",
        "colab_type": "code",
        "colab": {
          "base_uri": "https://localhost:8080/",
          "height": 34
        },
        "outputId": "85c36674-d4e5-4ec7-a0cf-50b1560edc0f"
      },
      "source": [
        "# Build the model.\n",
        "from keras.models import Sequential\n",
        "from keras.layers import Dense, Activation, Dropout, Input\n",
        "from keras.optimizers import SGD\n",
        "\n",
        "model = Sequential([\n",
        "        Dense(5000, input_dim=X.shape[-1]), \n",
        "        Activation('relu'), \n",
        "        Dropout(0.2), \n",
        "        Dense(TrainLabelSet.shape[-1])\n",
        "    ])\n",
        "model.compile('adadelta', 'mse')"
      ],
      "execution_count": 12,
      "outputs": [
        {
          "output_type": "stream",
          "text": [
            "Using TensorFlow backend.\n"
          ],
          "name": "stderr"
        }
      ]
    },
    {
      "cell_type": "code",
      "metadata": {
        "id": "C5VQCiGaW8aR",
        "colab_type": "code",
        "outputId": "643a91a8-be06-4e8e-d696-871ba7989b0c",
        "colab": {
          "base_uri": "https://localhost:8080/",
          "height": 1000
        }
      },
      "source": [
        "from keras.callbacks import CSVLogger\n",
        "\n",
        "csv_logger = CSVLogger('log.csv', append=True, separator=';')\n",
        "\n",
        "history = model.fit(X, TrainLabelSet, epochs=75, validation_split=0.3, callbacks=[csv_logger])"
      ],
      "execution_count": 13,
      "outputs": [
        {
          "output_type": "stream",
          "text": [
            "Train on 84000 samples, validate on 36000 samples\n",
            "Epoch 1/75\n",
            "84000/84000 [==============================] - 239s 3ms/step - loss: 8.2930 - val_loss: 4.2279\n",
            "Epoch 2/75\n",
            "84000/84000 [==============================] - 241s 3ms/step - loss: 4.7942 - val_loss: 1.6163\n",
            "Epoch 3/75\n",
            "84000/84000 [==============================] - 248s 3ms/step - loss: 4.5072 - val_loss: 2.3499\n",
            "Epoch 4/75\n",
            "84000/84000 [==============================] - 247s 3ms/step - loss: 4.1388 - val_loss: 3.2753\n",
            "Epoch 5/75\n",
            "84000/84000 [==============================] - 246s 3ms/step - loss: 4.0402 - val_loss: 2.3215\n",
            "Epoch 6/75\n",
            "84000/84000 [==============================] - 237s 3ms/step - loss: 3.8694 - val_loss: 0.9343\n",
            "Epoch 7/75\n",
            "84000/84000 [==============================] - 237s 3ms/step - loss: 3.6891 - val_loss: 3.0626\n",
            "Epoch 8/75\n",
            "84000/84000 [==============================] - 233s 3ms/step - loss: 3.6738 - val_loss: 5.4142\n",
            "Epoch 9/75\n",
            "84000/84000 [==============================] - 230s 3ms/step - loss: 3.5533 - val_loss: 1.2077\n",
            "Epoch 10/75\n",
            "84000/84000 [==============================] - 230s 3ms/step - loss: 3.4931 - val_loss: 3.1610\n",
            "Epoch 11/75\n",
            "84000/84000 [==============================] - 230s 3ms/step - loss: 3.4229 - val_loss: 2.2318\n",
            "Epoch 12/75\n",
            "84000/84000 [==============================] - 230s 3ms/step - loss: 3.3555 - val_loss: 4.0007\n",
            "Epoch 13/75\n",
            "84000/84000 [==============================] - 230s 3ms/step - loss: 3.2496 - val_loss: 3.4333\n",
            "Epoch 14/75\n",
            "84000/84000 [==============================] - 229s 3ms/step - loss: 3.1572 - val_loss: 1.8120\n",
            "Epoch 15/75\n",
            "84000/84000 [==============================] - 231s 3ms/step - loss: 3.1004 - val_loss: 1.3202\n",
            "Epoch 16/75\n",
            "84000/84000 [==============================] - 228s 3ms/step - loss: 2.9905 - val_loss: 0.9325\n",
            "Epoch 17/75\n",
            "84000/84000 [==============================] - 231s 3ms/step - loss: 2.9477 - val_loss: 0.7529\n",
            "Epoch 18/75\n",
            "84000/84000 [==============================] - 234s 3ms/step - loss: 2.8492 - val_loss: 0.8933\n",
            "Epoch 19/75\n",
            "84000/84000 [==============================] - 234s 3ms/step - loss: 2.8348 - val_loss: 1.4070\n",
            "Epoch 20/75\n",
            "84000/84000 [==============================] - 234s 3ms/step - loss: 2.7283 - val_loss: 3.8143\n",
            "Epoch 21/75\n",
            "84000/84000 [==============================] - 238s 3ms/step - loss: 2.7042 - val_loss: 4.4615\n",
            "Epoch 22/75\n",
            "84000/84000 [==============================] - 232s 3ms/step - loss: 2.6009 - val_loss: 2.2893\n",
            "Epoch 23/75\n",
            "84000/84000 [==============================] - 232s 3ms/step - loss: 2.5516 - val_loss: 1.1178\n",
            "Epoch 24/75\n",
            "84000/84000 [==============================] - 231s 3ms/step - loss: 2.5235 - val_loss: 0.6920\n",
            "Epoch 25/75\n",
            "84000/84000 [==============================] - 232s 3ms/step - loss: 2.4404 - val_loss: 0.5705\n",
            "Epoch 26/75\n",
            "84000/84000 [==============================] - 233s 3ms/step - loss: 2.4302 - val_loss: 0.6690\n",
            "Epoch 27/75\n",
            "84000/84000 [==============================] - 231s 3ms/step - loss: 2.3294 - val_loss: 0.7360\n",
            "Epoch 28/75\n",
            "84000/84000 [==============================] - 235s 3ms/step - loss: 2.3138 - val_loss: 0.6793\n",
            "Epoch 29/75\n",
            "84000/84000 [==============================] - 233s 3ms/step - loss: 2.2445 - val_loss: 1.6057\n",
            "Epoch 30/75\n",
            "84000/84000 [==============================] - 232s 3ms/step - loss: 2.1966 - val_loss: 2.5320\n",
            "Epoch 31/75\n",
            "84000/84000 [==============================] - 231s 3ms/step - loss: 2.1282 - val_loss: 2.4035\n",
            "Epoch 32/75\n",
            "84000/84000 [==============================] - 240s 3ms/step - loss: 2.0895 - val_loss: 0.7862\n",
            "Epoch 33/75\n",
            "84000/84000 [==============================] - 242s 3ms/step - loss: 2.0587 - val_loss: 1.1338\n",
            "Epoch 34/75\n",
            "84000/84000 [==============================] - 247s 3ms/step - loss: 2.0219 - val_loss: 1.0311\n",
            "Epoch 35/75\n",
            "84000/84000 [==============================] - 241s 3ms/step - loss: 1.9786 - val_loss: 0.7749\n",
            "Epoch 36/75\n",
            "84000/84000 [==============================] - 245s 3ms/step - loss: 1.9149 - val_loss: 0.7501\n",
            "Epoch 37/75\n",
            "84000/84000 [==============================] - 241s 3ms/step - loss: 1.8970 - val_loss: 1.5223\n",
            "Epoch 38/75\n",
            "84000/84000 [==============================] - 239s 3ms/step - loss: 1.8573 - val_loss: 0.9788\n",
            "Epoch 39/75\n",
            "84000/84000 [==============================] - 241s 3ms/step - loss: 1.8196 - val_loss: 1.4234\n",
            "Epoch 40/75\n",
            "84000/84000 [==============================] - 241s 3ms/step - loss: 1.7887 - val_loss: 0.6929\n",
            "Epoch 41/75\n",
            "84000/84000 [==============================] - 245s 3ms/step - loss: 1.7378 - val_loss: 1.3972\n",
            "Epoch 42/75\n",
            "84000/84000 [==============================] - 243s 3ms/step - loss: 1.7063 - val_loss: 2.1117\n",
            "Epoch 43/75\n",
            "84000/84000 [==============================] - 242s 3ms/step - loss: 1.6625 - val_loss: 0.5864\n",
            "Epoch 44/75\n",
            "84000/84000 [==============================] - 241s 3ms/step - loss: 1.6277 - val_loss: 0.5628\n",
            "Epoch 45/75\n",
            "84000/84000 [==============================] - 239s 3ms/step - loss: 1.6099 - val_loss: 0.6139\n",
            "Epoch 46/75\n",
            "84000/84000 [==============================] - 236s 3ms/step - loss: 1.5870 - val_loss: 0.9545\n",
            "Epoch 47/75\n",
            "84000/84000 [==============================] - 236s 3ms/step - loss: 1.5462 - val_loss: 0.8281\n",
            "Epoch 48/75\n",
            "84000/84000 [==============================] - 233s 3ms/step - loss: 1.5283 - val_loss: 1.3896\n",
            "Epoch 49/75\n",
            "84000/84000 [==============================] - 234s 3ms/step - loss: 1.4930 - val_loss: 0.8980\n",
            "Epoch 50/75\n",
            "84000/84000 [==============================] - 236s 3ms/step - loss: 1.4733 - val_loss: 1.3695\n",
            "Epoch 51/75\n",
            "84000/84000 [==============================] - 240s 3ms/step - loss: 1.4410 - val_loss: 0.5093\n",
            "Epoch 52/75\n",
            "84000/84000 [==============================] - 233s 3ms/step - loss: 1.4108 - val_loss: 0.6210\n",
            "Epoch 53/75\n",
            "84000/84000 [==============================] - 226s 3ms/step - loss: 1.3781 - val_loss: 0.5473\n",
            "Epoch 54/75\n",
            "84000/84000 [==============================] - 228s 3ms/step - loss: 1.3515 - val_loss: 0.5117\n",
            "Epoch 55/75\n",
            "84000/84000 [==============================] - 229s 3ms/step - loss: 1.3477 - val_loss: 1.0025\n",
            "Epoch 56/75\n",
            "84000/84000 [==============================] - 228s 3ms/step - loss: 1.3227 - val_loss: 0.5138\n",
            "Epoch 57/75\n",
            "84000/84000 [==============================] - 230s 3ms/step - loss: 1.3045 - val_loss: 0.5322\n",
            "Epoch 58/75\n",
            "84000/84000 [==============================] - 228s 3ms/step - loss: 1.2832 - val_loss: 0.9859\n",
            "Epoch 59/75\n",
            "84000/84000 [==============================] - 227s 3ms/step - loss: 1.2621 - val_loss: 0.4685\n",
            "Epoch 60/75\n",
            "84000/84000 [==============================] - 227s 3ms/step - loss: 1.2345 - val_loss: 0.5916\n",
            "Epoch 61/75\n",
            "84000/84000 [==============================] - 229s 3ms/step - loss: 1.2228 - val_loss: 0.5654\n",
            "Epoch 62/75\n",
            "84000/84000 [==============================] - 227s 3ms/step - loss: 1.2004 - val_loss: 0.6838\n",
            "Epoch 63/75\n",
            "84000/84000 [==============================] - 227s 3ms/step - loss: 1.1866 - val_loss: 0.3831\n",
            "Epoch 64/75\n",
            "84000/84000 [==============================] - 228s 3ms/step - loss: 1.1739 - val_loss: 0.4295\n",
            "Epoch 65/75\n",
            "84000/84000 [==============================] - 230s 3ms/step - loss: 1.1600 - val_loss: 0.9241\n",
            "Epoch 66/75\n",
            "84000/84000 [==============================] - 229s 3ms/step - loss: 1.1471 - val_loss: 0.4653\n",
            "Epoch 67/75\n",
            "84000/84000 [==============================] - 230s 3ms/step - loss: 1.1377 - val_loss: 0.6472\n",
            "Epoch 68/75\n",
            "84000/84000 [==============================] - 227s 3ms/step - loss: 1.1193 - val_loss: 0.5921\n",
            "Epoch 69/75\n",
            "84000/84000 [==============================] - 227s 3ms/step - loss: 1.1181 - val_loss: 0.5382\n",
            "Epoch 70/75\n",
            "84000/84000 [==============================] - 228s 3ms/step - loss: 1.0835 - val_loss: 0.4498\n",
            "Epoch 71/75\n",
            "84000/84000 [==============================] - 227s 3ms/step - loss: 1.0998 - val_loss: 0.4211\n",
            "Epoch 72/75\n",
            "84000/84000 [==============================] - 227s 3ms/step - loss: 1.0860 - val_loss: 0.8728\n",
            "Epoch 73/75\n",
            "84000/84000 [==============================] - 227s 3ms/step - loss: 1.0784 - val_loss: 0.3855\n",
            "Epoch 74/75\n",
            "84000/84000 [==============================] - 226s 3ms/step - loss: 1.0691 - val_loss: 0.4878\n",
            "Epoch 75/75\n",
            "84000/84000 [==============================] - 225s 3ms/step - loss: 1.0550 - val_loss: 0.4633\n"
          ],
          "name": "stdout"
        }
      ]
    },
    {
      "cell_type": "code",
      "metadata": {
        "id": "iLoHfyucYRHv",
        "colab_type": "code",
        "outputId": "c2b59acd-a574-4e68-c77c-a811d3c0fec7",
        "colab": {
          "base_uri": "https://localhost:8080/",
          "height": 283
        }
      },
      "source": [
        "# plt.plot(history.history['accuracy'], label='accuracy')\n",
        "plt.plot(history.history['val_loss'], label = 'val_loss')\n",
        "plt.plot(history.history['loss'], label = 'loss')\n",
        "\n",
        "plt.xlabel('Epoch')\n",
        "plt.ylabel('Accuracy')\n",
        "plt.ylim([0, 9])\n",
        "plt.legend(loc='upper right')\n",
        "plt.show()"
      ],
      "execution_count": 14,
      "outputs": [
        {
          "output_type": "display_data",
          "data": {
            "image/png": "[encoded data removed]",
            "text/plain": [
              "<Figure size 432x288 with 1 Axes>"
            ]
          },
          "metadata": {
            "tags": [],
            "needs_background": "light"
          }
        }
      ]
    },
    {
      "cell_type": "code",
      "metadata": {
        "id": "ng2dAwPdf7K6",
        "colab_type": "code",
        "outputId": "1f8a0129-f797-453c-d70a-bb33960474bb",
        "colab": {
          "base_uri": "https://localhost:8080/",
          "height": 268
        }
      },
      "source": [
        "# Predict bounding boxes on the test images.\n",
        "AnzahlAnTest = 1\n",
        "TestDataSet, TestLabelSet, TestTabelSet = TrainDataGenerator(AnzahlAnTest)\n",
        "\n",
        "# Reshape and normalize the image data to mean 0 and std 1. \n",
        "y = (TestDataSet.reshape(AnzahlAnTest, -1) - np.mean(TestDataSet)) / np.std(TestDataSet)\n",
        "y.shape, np.mean(y), np.std(y)\n",
        "\n",
        "pred_y = model.predict(y)\n",
        "\n",
        "print (\"Wir wollen:     \" + str(TestLabelSet))\n",
        "print (\"Wir bekommen:   \" + str(pred_y))\n",
        "\n",
        "bbox = pred_y[0]\n",
        "\n",
        "plt.imshow(TestDataSet[0])\n",
        "plt.gca().add_patch(patch.Rectangle((bbox[0], bbox[1]), bbox[2], bbox[3], ec='r', fc='none'))"
      ],
      "execution_count": 30,
      "outputs": [
        {
          "output_type": "stream",
          "text": [
            "Wir wollen:     [[34.  9. 24. 15.]]\n",
            "Wir bekommen:   [[32.784576  8.610938 23.389723 14.86339 ]]\n"
          ],
          "name": "stdout"
        },
        {
          "output_type": "execute_result",
          "data": {
            "text/plain": [
              "<matplotlib.patches.Rectangle at 0x7fc09314fdd8>"
            ]
          },
          "metadata": {
            "tags": []
          },
          "execution_count": 30
        },
        {
          "output_type": "display_data",
          "data": {
            "image/png": "[encoded data removed]",
            "text/plain": [
              "<Figure size 432x288 with 1 Axes>"
            ]
          },
          "metadata": {
            "tags": [],
            "needs_background": "light"
          }
        }
      ]
    },
    {
      "cell_type": "code",
      "metadata": {
        "id": "TtjAwGkhRIk8",
        "colab_type": "code",
        "colab": {
          "base_uri": "https://localhost:8080/",
          "height": 54
        },
        "outputId": "387f2e9c-2f75-4acc-9887-80d134fbd8f2"
      },
      "source": [
        "model.save('/content/drive/My Drive/MyModel2')\n",
        "\n",
        "print(history.history)"
      ],
      "execution_count": 35,
      "outputs": [
        {
          "output_type": "stream",
          "text": [
            "{'val_loss': [4.2278774560292565, 1.6163346162901984, 2.349855639987522, 3.275284777217441, 2.321507411003113, 0.9342814649475946, 3.062571356985304, 5.414187335120307, 1.20768443441391, 3.161033435397678, 2.231807000372145, 4.0007120535108776, 3.4333149492475723, 1.8119893567827012, 1.3201654455396865, 0.9324521533648173, 0.7528511541419559, 0.8932589402463701, 1.4070395582516988, 3.8143209295272826, 4.461453710979885, 2.2893030184639827, 1.1178424390157065, 0.6919975536134508, 0.5705498924255371, 0.6689822665055593, 0.7359998978508844, 0.6792814529471928, 1.6056914149920145, 2.5320268064075044, 2.403540296660529, 0.7862298423184289, 1.1337639088630675, 1.0311218356556362, 0.7748551598919763, 0.7500634566677942, 1.5223284628126357, 0.97878348631329, 1.423376974052853, 0.6929138345983293, 1.397212963740031, 2.111680523130629, 0.5864158476723565, 0.5628250461419423, 0.6138567408190834, 0.9544856530030569, 0.8281292770173815, 1.3895607216623094, 0.8980054297977024, 1.3695026396115622, 0.5092825924290552, 0.6210286036862267, 0.5473310748736063, 0.5117282461722692, 1.0025137116644118, 0.5137980655829112, 0.532235577583313, 0.985886587328381, 0.46848846719000076, 0.5916154148048824, 0.5653856741057501, 0.6838013898796506, 0.38311043106185066, 0.42950965910487704, 0.9241177031993866, 0.4652650770611233, 0.6472085457377964, 0.592133061170578, 0.5382409964402517, 0.4497863848871655, 0.42105849851502314, 0.8727611204518212, 0.3854874008231693, 0.4877955712609821, 0.4633323291407691], 'loss': [8.292987378756205, 4.794233894166492, 4.507208847272964, 4.138784370921907, 4.040224407468523, 3.8694298356374106, 3.6891315001533145, 3.6738382953462145, 3.5533285302661715, 3.4930579669816155, 3.422910873072488, 3.355461746715364, 3.2496142551785425, 3.1571701750528245, 3.100376873515901, 2.9904709008307684, 2.9477137506348745, 2.84922246719542, 2.834778213728042, 2.7283399474053156, 2.704198739574069, 2.600903885137467, 2.551642573969705, 2.5234909781728474, 2.4403917483602253, 2.43017795642217, 2.3294435653005325, 2.3138119401704698, 2.2444739156904676, 2.1965824664433797, 2.128175688039689, 2.0895130490802583, 2.058654209364028, 2.021934580485026, 1.9786482704253423, 1.9149324433235895, 1.8970188425381977, 1.857330747944968, 1.8196473261288235, 1.788674375511351, 1.7377544748215448, 1.7063272400810605, 1.662487262248993, 1.6276635345731463, 1.6098957287924631, 1.586971608706883, 1.546173641840617, 1.5283235148929415, 1.4929825717154004, 1.473282597836994, 1.441034737064725, 1.4108377319063459, 1.3780513784771873, 1.3514704759007408, 1.3477315559160141, 1.322663421312968, 1.304503979410444, 1.2832353921844846, 1.2620577985332126, 1.2344611964452834, 1.2227541909671966, 1.2004350618294308, 1.1865554990768432, 1.173924854778108, 1.1599741914385842, 1.1470882294291542, 1.1376670718306587, 1.1192742845671517, 1.1180744474955968, 1.083465072041466, 1.0997933420113155, 1.0859910625503177, 1.0783554165363312, 1.0691103105317978, 1.0549602591650826]}\n"
          ],
          "name": "stdout"
        }
      ]
    },
    {
      "cell_type": "code",
      "metadata": {
        "id": "iyeWGHlo8uNR",
        "colab_type": "code",
        "colab": {
          "base_uri": "https://localhost:8080/",
          "height": 289
        },
        "outputId": "258cf153-91da-4676-9624-138973d5c666"
      },
      "source": [
        "model.summary()"
      ],
      "execution_count": 31,
      "outputs": [
        {
          "output_type": "stream",
          "text": [
            "Model: \"sequential_1\"\n",
            "_________________________________________________________________\n",
            "Layer (type)                 Output Shape              Param #   \n",
            "=================================================================\n",
            "dense_1 (Dense)              (None, 5000)              10245000  \n",
            "_________________________________________________________________\n",
            "activation_1 (Activation)    (None, 5000)              0         \n",
            "_________________________________________________________________\n",
            "dropout_1 (Dropout)          (None, 5000)              0         \n",
            "_________________________________________________________________\n",
            "dense_2 (Dense)              (None, 4)                 20004     \n",
            "=================================================================\n",
            "Total params: 10,265,004\n",
            "Trainable params: 10,265,004\n",
            "Non-trainable params: 0\n",
            "_________________________________________________________________\n"
          ],
          "name": "stdout"
        }
      ]
    }
  ]
}