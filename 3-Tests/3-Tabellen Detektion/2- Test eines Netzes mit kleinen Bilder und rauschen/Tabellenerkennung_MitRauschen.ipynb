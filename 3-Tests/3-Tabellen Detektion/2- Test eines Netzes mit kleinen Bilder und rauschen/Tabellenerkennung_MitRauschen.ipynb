{
  "nbformat": 4,
  "nbformat_minor": 0,
  "metadata": {
    "colab": {
      "name": "Tabellenerkennung-MitRauschen.ipynb",
      "provenance": [],
      "collapsed_sections": [],
      "toc_visible": true,
      "machine_shape": "hm"
    },
    "kernelspec": {
      "name": "python3",
      "display_name": "Python 3"
    }
  },
  "cells": [
    {
      "cell_type": "code",
      "metadata": {
        "id": "XGFB_Etciw2u",
        "colab_type": "code",
        "outputId": "39dba7b8-300f-413c-c658-df771fa9e70d",
        "colab": {
          "base_uri": "https://localhost:8080/",
          "height": 207
        }
      },
      "source": [
        "# To determine which version you're using:\n",
        "!pip show tensorflow\n",
        "\n",
        "# For the latest nightly build:\n",
        "# !pip install tf-nightly\n",
        "# For the current version: \n",
        "#!pip install --upgrade tensorflow\n",
        "\n",
        "# For a specific version:\n",
        "#!pip install tensorflow==1.2\n"
      ],
      "execution_count": 1,
      "outputs": [
        {
          "output_type": "stream",
          "text": [
            "Name: tensorflow\n",
            "Version: 2.2.0rc3\n",
            "Summary: TensorFlow is an open source machine learning framework for everyone.\n",
            "Home-page: https://www.tensorflow.org/\n",
            "Author: Google Inc.\n",
            "Author-email: packages@tensorflow.org\n",
            "License: Apache 2.0\n",
            "Location: /usr/local/lib/python3.6/dist-packages\n",
            "Requires: protobuf, six, wheel, numpy, astunparse, tensorboard, google-pasta, grpcio, tensorflow-estimator, keras-preprocessing, absl-py, wrapt, scipy, termcolor, opt-einsum, gast, h5py\n",
            "Required-by: fancyimpute\n"
          ],
          "name": "stdout"
        }
      ]
    },
    {
      "cell_type": "markdown",
      "metadata": {
        "id": "SemjBMnTtQee",
        "colab_type": "text"
      },
      "source": [
        "# Import\n"
      ]
    },
    {
      "cell_type": "code",
      "metadata": {
        "id": "0m48sJBxtUCU",
        "colab_type": "code",
        "colab": {}
      },
      "source": [
        "import matplotlib.pyplot as plt\n",
        "import matplotlib.patches as patch\n",
        "import tensorflow as tf\n",
        "from tensorflow import keras\n",
        "import random\n",
        "import math\n",
        "\n",
        "import numpy as np\n",
        "from PIL import Image\n",
        "import os\n",
        "import cv2\n",
        "\n",
        "from skimage.util import random_noise"
      ],
      "execution_count": 0,
      "outputs": []
    },
    {
      "cell_type": "code",
      "metadata": {
        "id": "dp00yxVM3MCS",
        "colab_type": "code",
        "colab": {}
      },
      "source": [
        "# Create an Image with the defined Height and Width\n",
        "def createImage():\n",
        "  ArrayZiel = []\n",
        "  for y in range(0, IMG_Height):\n",
        "    tempArray = []\n",
        "    for x in range(0, IMG_Width):\n",
        "      tempArray.append(0)\n",
        "    ArrayZiel.append(np.array(tempArray))\n",
        "  return np.array(ArrayZiel)\n"
      ],
      "execution_count": 0,
      "outputs": []
    },
    {
      "cell_type": "code",
      "metadata": {
        "id": "VszsxvQJ3eEX",
        "colab_type": "code",
        "colab": {}
      },
      "source": [
        "# Add Noise to given Image\n",
        "def add_gaussian_noise(img):\n",
        "    mean = 0\n",
        "    var = 10\n",
        "    sigma = var ** 0.5\n",
        "    gaussian = np.random.normal(mean, sigma, (IMG_Height, IMG_Width))\n",
        "\n",
        "    noisy_image = np.zeros(img.shape, np.float32)\n",
        "\n",
        "    if len(img.shape) == 2:\n",
        "        noisy_image = img + gaussian\n",
        "    else:\n",
        "        noisy_image[:, :, 0] = img[:, :, 0] + gaussian\n",
        "        noisy_image[:, :, 1] = img[:, :, 1] + gaussian\n",
        "        noisy_image[:, :, 2] = img[:, :, 2] + gaussian\n",
        "\n",
        "    cv2.normalize(noisy_image, noisy_image, 0, 255, cv2.NORM_MINMAX, dtype=-1)\n",
        "    noisy_image = noisy_image.astype(np.uint8)\n",
        "\n",
        "    return noisy_image\n"
      ],
      "execution_count": 0,
      "outputs": []
    },
    {
      "cell_type": "code",
      "metadata": {
        "id": "HbJCp-Wb3ygN",
        "colab_type": "code",
        "colab": {}
      },
      "source": [
        "# nimmt das Image und fügt eine MehrDimensionale Tabelle ein.\n",
        "def addTabel_Mehrdimensional(image):\n",
        "  x1 = int(random.randint(0, IMG_Width-22))\n",
        "  x2 = int(random.randint(x1+20, IMG_Width-2))\n",
        "\n",
        "  y1 = int(random.randint(1, IMG_Height/2))\n",
        "  y2 = int(random.randint(y1+1, IMG_Height-2))\n",
        "\n",
        "  Tabelle = np.zeros(image.shape, np.float32)\n",
        "\n",
        "  width = x2-x1\n",
        "  height = y2-y1\n",
        "\n",
        "  AnzahlTabellen = random.randint(2,5)\n",
        "\n",
        "  # Berechne Tabelle:\n",
        "  b = int(width / AnzahlTabellen)\n",
        "\n",
        "  for x in range(x1,x2):\n",
        "    for y in range(y1, y2):\n",
        "      Temp = math.sin(((x-x1) / b) * 2 * math.pi)\n",
        "      if(Temp > 0):\n",
        "        image[y][x] = 100\n",
        "        Tabelle[y][x] = 1\n",
        "      else:\n",
        "        image[y][x] = 100\n",
        "        Tabelle[y][x] = 1\n",
        "\n",
        "  # Addieren beide Bilder zusammen\n",
        "  # image = np.stack((image, image, image), axis=2)\n",
        "  # Tabelle = np.stack((Tabelle, Tabelle, Tabelle), axis=2)\n",
        "\n",
        "  # image = np.resize(image, (IMG_Height, IMG_Width, 3))\n",
        "  # Tabelle = np.resize(Tabelle, (IMG_Height, IMG_Width, 3))\n",
        "\n",
        "  return image, x1, y1, x2, y2, Tabelle"
      ],
      "execution_count": 0,
      "outputs": []
    },
    {
      "cell_type": "code",
      "metadata": {
        "id": "fsLOMOul8RLW",
        "colab_type": "code",
        "colab": {}
      },
      "source": [
        "def CreateLabelData_MehrDimensional(x1, y1, x2, y2):\n",
        "  Array = []\n",
        "\n",
        "  Array1 = []\n",
        "  Array1.append(x1)\n",
        "  Array1.append(y1)\n",
        "  Array1.append(x2-x1)\n",
        "  Array1.append(y2-y1)\n",
        "  Array1 = np.asarray(Array1)\n",
        "  return Array1\n",
        "  \n",
        "  Array.append(Array1)\n",
        "\n",
        "  Array1 = []\n",
        "  Array1.append(x2-x1)\n",
        "  Array1.append(y2-y1)\n",
        "  Array1 = np.asarray(Array1)\n",
        "  Array.append(Array1)\n",
        "\n",
        "  Array = np.asarray(Array)\n",
        "  return Array"
      ],
      "execution_count": 0,
      "outputs": []
    },
    {
      "cell_type": "code",
      "metadata": {
        "id": "ovel2nVy5NCE",
        "colab_type": "code",
        "colab": {}
      },
      "source": [
        "def TrainDataGenerator(AnzahlAnDaten):\n",
        "  TrainDataset = []\n",
        "  TrainLabelSet = []\n",
        "  TrainTabelSet = []\n",
        "\n",
        "  for i in range(0, AnzahlAnDaten):\n",
        "    image = createImage()\n",
        "    image = add_gaussian_noise(image)\n",
        "    image, x1,y1,x2,y2,tabel = addTabel_Mehrdimensional(image)\n",
        "    TrainTabelSet.append(tabel)\n",
        "    labelArray = CreateLabelData_MehrDimensional(x1, y1, x2, y2)\n",
        "    TrainDataset.append(np.asarray(image))\n",
        "    TrainLabelSet.append(np.asarray(labelArray))\n",
        "\n",
        "  TrainDataset = np.asarray(TrainDataset, dtype=np.float32)\n",
        "  TrainLabelSet = np.asarray(TrainLabelSet, dtype=np.float32)\n",
        "  TrainTabelSet = np.asarray(TrainTabelSet, dtype=np.float32)\n",
        "\n",
        "  return TrainDataset, TrainLabelSet, TrainTabelSet"
      ],
      "execution_count": 0,
      "outputs": []
    },
    {
      "cell_type": "markdown",
      "metadata": {
        "id": "sFwfP3eatLjW",
        "colab_type": "text"
      },
      "source": [
        "# Erster Test: Ein Dimensional\n"
      ]
    },
    {
      "cell_type": "code",
      "metadata": {
        "id": "7JdJMpGB5S2R",
        "colab_type": "code",
        "colab": {}
      },
      "source": [
        "# Variablen\n",
        "\n",
        "IMG_Height = 32\n",
        "IMG_Width = 64\n",
        "\n",
        "AnzahlAnTrainDaten = 120000\n",
        "AnzahlAnTestDaten = 1000\n",
        "DropoutRate = 0.5\n",
        "\n",
        "LossZumAbbruchDesTrainings = 0.7"
      ],
      "execution_count": 0,
      "outputs": []
    },
    {
      "cell_type": "markdown",
      "metadata": {
        "id": "vgvwjLR05T8Z",
        "colab_type": "text"
      },
      "source": [
        "## 1) Daten Erzeugen"
      ]
    },
    {
      "cell_type": "code",
      "metadata": {
        "id": "gdKP9TEKuzvw",
        "colab_type": "code",
        "outputId": "8bc90deb-69bb-4632-89d6-b36c36d4ab54",
        "colab": {
          "base_uri": "https://localhost:8080/",
          "height": 468
        }
      },
      "source": [
        "TrainDataset, TrainLabelSet, TrainTabelSet = TrainDataGenerator(AnzahlAnTrainDaten)\n",
        "print(TrainDataset.shape)\n",
        "print(TrainTabelSet.shape)\n",
        "\n",
        "plt.imshow(TrainDataset[0])\n",
        "plt.show()\n",
        "\n",
        "plt.imshow(TrainTabelSet[0])\n",
        "plt.show()\n",
        "\n",
        "print(TrainLabelSet[0])"
      ],
      "execution_count": 9,
      "outputs": [
        {
          "output_type": "stream",
          "text": [
            "(120000, 32, 64)\n",
            "(120000, 32, 64)\n"
          ],
          "name": "stdout"
        },
        {
          "output_type": "display_data",
          "data": {
            "image/png": "[encoded data removed]",
            "text/plain": [
              "<Figure size 432x288 with 1 Axes>"
            ]
          },
          "metadata": {
            "tags": [],
            "needs_background": "light"
          }
        },
        {
          "output_type": "display_data",
          "data": {
            "image/png": "[encoded data removed]",
            "text/plain": [
              "<Figure size 432x288 with 1 Axes>"
            ]
          },
          "metadata": {
            "tags": [],
            "needs_background": "light"
          }
        },
        {
          "output_type": "stream",
          "text": [
            "[19.  9. 35.  1.]\n"
          ],
          "name": "stdout"
        }
      ]
    },
    {
      "cell_type": "code",
      "metadata": {
        "id": "7yJq61e8a29y",
        "colab_type": "code",
        "outputId": "b56c9337-e259-400f-d8f8-264d30aea8eb",
        "colab": {
          "base_uri": "https://localhost:8080/",
          "height": 34
        }
      },
      "source": [
        "# Reshape and normalize the image data to mean 0 and std 1. \n",
        "X = (TrainDataset.reshape(AnzahlAnTrainDaten, -1) - np.mean(TrainDataset)) / np.std(TrainDataset)\n",
        "X.shape, np.mean(X), np.std(X)"
      ],
      "execution_count": 10,
      "outputs": [
        {
          "output_type": "execute_result",
          "data": {
            "text/plain": [
              "((120000, 2048), 5.4584743e-06, 0.9999983)"
            ]
          },
          "metadata": {
            "tags": []
          },
          "execution_count": 10
        }
      ]
    },
    {
      "cell_type": "code",
      "metadata": {
        "id": "jFqYf07VUvds",
        "colab_type": "code",
        "outputId": "dd2c85c8-be3a-44ae-d41d-2b46bb5e9576",
        "colab": {
          "base_uri": "https://localhost:8080/",
          "height": 34
        }
      },
      "source": [
        "# Build the model.\n",
        "from keras.models import Sequential\n",
        "from keras.layers import Dense, Activation, Dropout, Input\n",
        "from keras.optimizers import SGD\n",
        "\n",
        "model = Sequential([\n",
        "        Dense(5000, input_dim=X.shape[-1]), \n",
        "        Activation('relu'), \n",
        "        Dropout(0.2), \n",
        "        Dense(TrainLabelSet.shape[-1])\n",
        "    ])\n",
        "model.compile('adadelta', 'mse')"
      ],
      "execution_count": 11,
      "outputs": [
        {
          "output_type": "stream",
          "text": [
            "Using TensorFlow backend.\n"
          ],
          "name": "stderr"
        }
      ]
    },
    {
      "cell_type": "code",
      "metadata": {
        "id": "C5VQCiGaW8aR",
        "colab_type": "code",
        "outputId": "a33e19d7-ba6e-4311-9cdd-727ba1cdd2d8",
        "colab": {
          "base_uri": "https://localhost:8080/",
          "height": 1000
        }
      },
      "source": [
        "from keras.callbacks import CSVLogger\n",
        "\n",
        "csv_logger = CSVLogger('log.csv', append=True, separator=';')\n",
        "\n",
        "history = model.fit(X, TrainLabelSet, epochs=75, validation_split=0.3, callbacks=[csv_logger])"
      ],
      "execution_count": 12,
      "outputs": [
        {
          "output_type": "stream",
          "text": [
            "Train on 84000 samples, validate on 36000 samples\n",
            "Epoch 1/75\n",
            "84000/84000 [==============================] - 224s 3ms/step - loss: 30.1605 - val_loss: 22.3078\n",
            "Epoch 2/75\n",
            "84000/84000 [==============================] - 223s 3ms/step - loss: 20.5274 - val_loss: 20.8505\n",
            "Epoch 3/75\n",
            "84000/84000 [==============================] - 223s 3ms/step - loss: 16.5848 - val_loss: 20.4305\n",
            "Epoch 4/75\n",
            "84000/84000 [==============================] - 227s 3ms/step - loss: 13.7801 - val_loss: 21.1687\n",
            "Epoch 5/75\n",
            "84000/84000 [==============================] - 227s 3ms/step - loss: 11.9828 - val_loss: 20.5361\n",
            "Epoch 6/75\n",
            "84000/84000 [==============================] - 225s 3ms/step - loss: 11.0028 - val_loss: 20.3218\n",
            "Epoch 7/75\n",
            "84000/84000 [==============================] - 226s 3ms/step - loss: 10.1510 - val_loss: 22.2230\n",
            "Epoch 8/75\n",
            "84000/84000 [==============================] - 228s 3ms/step - loss: 9.7002 - val_loss: 20.1280\n",
            "Epoch 9/75\n",
            "84000/84000 [==============================] - 224s 3ms/step - loss: 9.2095 - val_loss: 20.4375\n",
            "Epoch 10/75\n",
            "84000/84000 [==============================] - 225s 3ms/step - loss: 8.8778 - val_loss: 19.3606\n",
            "Epoch 11/75\n",
            "84000/84000 [==============================] - 232s 3ms/step - loss: 8.5226 - val_loss: 18.9237\n",
            "Epoch 12/75\n",
            "84000/84000 [==============================] - 228s 3ms/step - loss: 8.2431 - val_loss: 20.3126\n",
            "Epoch 13/75\n",
            "84000/84000 [==============================] - 231s 3ms/step - loss: 7.9793 - val_loss: 20.7684\n",
            "Epoch 14/75\n",
            "84000/84000 [==============================] - 225s 3ms/step - loss: 7.8102 - val_loss: 19.1328\n",
            "Epoch 15/75\n",
            "84000/84000 [==============================] - 225s 3ms/step - loss: 7.5922 - val_loss: 20.9864\n",
            "Epoch 16/75\n",
            "84000/84000 [==============================] - 226s 3ms/step - loss: 7.4614 - val_loss: 19.1775\n",
            "Epoch 17/75\n",
            "84000/84000 [==============================] - 227s 3ms/step - loss: 7.2581 - val_loss: 22.1169\n",
            "Epoch 18/75\n",
            "84000/84000 [==============================] - 226s 3ms/step - loss: 7.0998 - val_loss: 19.2714\n",
            "Epoch 19/75\n",
            "84000/84000 [==============================] - 226s 3ms/step - loss: 7.0276 - val_loss: 18.9307\n",
            "Epoch 20/75\n",
            "84000/84000 [==============================] - 227s 3ms/step - loss: 6.7998 - val_loss: 19.1379\n",
            "Epoch 21/75\n",
            "84000/84000 [==============================] - 227s 3ms/step - loss: 6.7414 - val_loss: 19.4695\n",
            "Epoch 22/75\n",
            "84000/84000 [==============================] - 225s 3ms/step - loss: 6.6316 - val_loss: 20.7113\n",
            "Epoch 23/75\n",
            "84000/84000 [==============================] - 225s 3ms/step - loss: 6.4353 - val_loss: 25.2072\n",
            "Epoch 24/75\n",
            "84000/84000 [==============================] - 226s 3ms/step - loss: 6.3692 - val_loss: 19.0038\n",
            "Epoch 25/75\n",
            "84000/84000 [==============================] - 227s 3ms/step - loss: 6.2323 - val_loss: 19.9492\n",
            "Epoch 26/75\n",
            "84000/84000 [==============================] - 230s 3ms/step - loss: 6.1919 - val_loss: 19.6191\n",
            "Epoch 27/75\n",
            "84000/84000 [==============================] - 229s 3ms/step - loss: 6.0475 - val_loss: 20.4327\n",
            "Epoch 28/75\n",
            "84000/84000 [==============================] - 227s 3ms/step - loss: 5.9972 - val_loss: 19.2321\n",
            "Epoch 29/75\n",
            "84000/84000 [==============================] - 231s 3ms/step - loss: 5.8898 - val_loss: 19.2473\n",
            "Epoch 30/75\n",
            "84000/84000 [==============================] - 222s 3ms/step - loss: 5.8141 - val_loss: 19.2044\n",
            "Epoch 31/75\n",
            "84000/84000 [==============================] - 222s 3ms/step - loss: 5.6942 - val_loss: 21.1825\n",
            "Epoch 32/75\n",
            "84000/84000 [==============================] - 223s 3ms/step - loss: 5.6036 - val_loss: 19.3577\n",
            "Epoch 33/75\n",
            "84000/84000 [==============================] - 225s 3ms/step - loss: 5.5887 - val_loss: 19.2624\n",
            "Epoch 34/75\n",
            "84000/84000 [==============================] - 224s 3ms/step - loss: 5.4985 - val_loss: 19.8809\n",
            "Epoch 35/75\n",
            "84000/84000 [==============================] - 223s 3ms/step - loss: 5.4183 - val_loss: 19.6781\n",
            "Epoch 36/75\n",
            "84000/84000 [==============================] - 224s 3ms/step - loss: 5.3167 - val_loss: 19.0337\n",
            "Epoch 37/75\n",
            "84000/84000 [==============================] - 226s 3ms/step - loss: 5.2788 - val_loss: 19.4043\n",
            "Epoch 38/75\n",
            "84000/84000 [==============================] - 226s 3ms/step - loss: 5.2335 - val_loss: 19.7193\n",
            "Epoch 39/75\n",
            "84000/84000 [==============================] - 226s 3ms/step - loss: 5.1269 - val_loss: 19.1285\n",
            "Epoch 40/75\n",
            "84000/84000 [==============================] - 226s 3ms/step - loss: 5.0130 - val_loss: 19.1666\n",
            "Epoch 41/75\n",
            "84000/84000 [==============================] - 227s 3ms/step - loss: 4.9735 - val_loss: 19.3246\n",
            "Epoch 42/75\n",
            "84000/84000 [==============================] - 231s 3ms/step - loss: 4.9119 - val_loss: 18.7147\n",
            "Epoch 43/75\n",
            "84000/84000 [==============================] - 231s 3ms/step - loss: 4.8752 - val_loss: 18.8450\n",
            "Epoch 44/75\n",
            "84000/84000 [==============================] - 232s 3ms/step - loss: 4.7904 - val_loss: 18.8488\n",
            "Epoch 45/75\n",
            "84000/84000 [==============================] - 232s 3ms/step - loss: 4.7427 - val_loss: 19.0077\n",
            "Epoch 46/75\n",
            "84000/84000 [==============================] - 225s 3ms/step - loss: 4.7147 - val_loss: 19.0260\n",
            "Epoch 47/75\n",
            "84000/84000 [==============================] - 226s 3ms/step - loss: 4.6643 - val_loss: 18.9673\n",
            "Epoch 48/75\n",
            "84000/84000 [==============================] - 226s 3ms/step - loss: 4.5954 - val_loss: 18.6963\n",
            "Epoch 49/75\n",
            "84000/84000 [==============================] - 225s 3ms/step - loss: 4.5067 - val_loss: 19.5596\n",
            "Epoch 50/75\n",
            "84000/84000 [==============================] - 225s 3ms/step - loss: 4.4703 - val_loss: 18.9004\n",
            "Epoch 51/75\n",
            "84000/84000 [==============================] - 226s 3ms/step - loss: 4.3950 - val_loss: 19.4775\n",
            "Epoch 52/75\n",
            "84000/84000 [==============================] - 227s 3ms/step - loss: 4.3494 - val_loss: 18.7954\n",
            "Epoch 53/75\n",
            "84000/84000 [==============================] - 227s 3ms/step - loss: 4.2963 - val_loss: 18.9216\n",
            "Epoch 54/75\n",
            "84000/84000 [==============================] - 225s 3ms/step - loss: 4.2873 - val_loss: 18.6540\n",
            "Epoch 55/75\n",
            "84000/84000 [==============================] - 226s 3ms/step - loss: 4.2024 - val_loss: 20.5757\n",
            "Epoch 56/75\n",
            "84000/84000 [==============================] - 227s 3ms/step - loss: 4.1424 - val_loss: 19.7827\n",
            "Epoch 57/75\n",
            "84000/84000 [==============================] - 226s 3ms/step - loss: 4.0961 - val_loss: 19.0100\n",
            "Epoch 58/75\n",
            "84000/84000 [==============================] - 231s 3ms/step - loss: 4.0602 - val_loss: 19.1764\n",
            "Epoch 59/75\n",
            "84000/84000 [==============================] - 230s 3ms/step - loss: 4.0369 - val_loss: 18.7043\n",
            "Epoch 60/75\n",
            "84000/84000 [==============================] - 231s 3ms/step - loss: 3.9881 - val_loss: 18.5258\n",
            "Epoch 61/75\n",
            "84000/84000 [==============================] - 231s 3ms/step - loss: 3.9212 - val_loss: 18.4630\n",
            "Epoch 62/75\n",
            "84000/84000 [==============================] - 227s 3ms/step - loss: 3.8841 - val_loss: 19.5717\n",
            "Epoch 63/75\n",
            "84000/84000 [==============================] - 227s 3ms/step - loss: 3.8625 - val_loss: 18.6132\n",
            "Epoch 64/75\n",
            "84000/84000 [==============================] - 227s 3ms/step - loss: 3.8365 - val_loss: 18.5914\n",
            "Epoch 65/75\n",
            "84000/84000 [==============================] - 225s 3ms/step - loss: 3.7606 - val_loss: 19.3624\n",
            "Epoch 66/75\n",
            "84000/84000 [==============================] - 228s 3ms/step - loss: 3.7363 - val_loss: 18.7595\n",
            "Epoch 67/75\n",
            "84000/84000 [==============================] - 227s 3ms/step - loss: 3.6757 - val_loss: 18.8923\n",
            "Epoch 68/75\n",
            "84000/84000 [==============================] - 226s 3ms/step - loss: 3.6654 - val_loss: 18.7379\n",
            "Epoch 69/75\n",
            "84000/84000 [==============================] - 226s 3ms/step - loss: 3.6020 - val_loss: 18.6380\n",
            "Epoch 70/75\n",
            "84000/84000 [==============================] - 227s 3ms/step - loss: 3.5727 - val_loss: 18.4008\n",
            "Epoch 71/75\n",
            "84000/84000 [==============================] - 226s 3ms/step - loss: 3.5436 - val_loss: 19.0085\n",
            "Epoch 72/75\n",
            "84000/84000 [==============================] - 225s 3ms/step - loss: 3.5191 - val_loss: 18.5019\n",
            "Epoch 73/75\n",
            "84000/84000 [==============================] - 224s 3ms/step - loss: 3.5012 - val_loss: 18.1787\n",
            "Epoch 74/75\n",
            "84000/84000 [==============================] - 230s 3ms/step - loss: 3.4323 - val_loss: 18.2069\n",
            "Epoch 75/75\n",
            "84000/84000 [==============================] - 225s 3ms/step - loss: 3.4035 - val_loss: 18.2855\n"
          ],
          "name": "stdout"
        }
      ]
    },
    {
      "cell_type": "code",
      "metadata": {
        "id": "iLoHfyucYRHv",
        "colab_type": "code",
        "outputId": "251bf758-4f8a-4de1-a134-e66caa762c94",
        "colab": {
          "base_uri": "https://localhost:8080/",
          "height": 279
        }
      },
      "source": [
        "# plt.plot(history.history['accuracy'], label='accuracy')\n",
        "plt.plot(history.history['val_loss'], label = 'val_loss')\n",
        "plt.plot(history.history['loss'], label = 'loss')\n",
        "\n",
        "plt.xlabel('Epoch')\n",
        "plt.ylabel('Accuracy')\n",
        "plt.ylim([0, 24])\n",
        "plt.legend(loc='center right')\n",
        "plt.show()"
      ],
      "execution_count": 19,
      "outputs": [
        {
          "output_type": "display_data",
          "data": {
            "image/png": "[encoded data removed]",
            "text/plain": [
              "<Figure size 432x288 with 1 Axes>"
            ]
          },
          "metadata": {
            "tags": [],
            "needs_background": "light"
          }
        }
      ]
    },
    {
      "cell_type": "code",
      "metadata": {
        "id": "ng2dAwPdf7K6",
        "colab_type": "code",
        "outputId": "2d673ebc-e64a-4124-fe57-cbf18e15c9dd",
        "colab": {
          "base_uri": "https://localhost:8080/",
          "height": 268
        }
      },
      "source": [
        "# Predict bounding boxes on the test images.\n",
        "AnzahlAnTest = 1\n",
        "TestDataSet, TestLabelSet, TestTabelSet = TrainDataGenerator(AnzahlAnTest)\n",
        "\n",
        "# Reshape and normalize the image data to mean 0 and std 1. \n",
        "y = (TestDataSet.reshape(AnzahlAnTest, -1) - np.mean(TestDataSet)) / np.std(TestDataSet)\n",
        "y.shape, np.mean(y), np.std(y)\n",
        "\n",
        "pred_y = model.predict(y)\n",
        "\n",
        "print (\"Wir wollen:     \" + str(TestLabelSet))\n",
        "print (\"Wir bekommen:   \" + str(pred_y))\n",
        "\n",
        "bbox = pred_y[0]\n",
        "\n",
        "plt.imshow(TestDataSet[0])\n",
        "plt.gca().add_patch(patch.Rectangle((bbox[0], bbox[1]), bbox[2], bbox[3], ec='r', fc='none'))"
      ],
      "execution_count": 14,
      "outputs": [
        {
          "output_type": "stream",
          "text": [
            "Wir wollen:     [[25.  3. 24. 13.]]\n",
            "Wir bekommen:   [[26.428299   3.8493602 24.800308   9.038351 ]]\n"
          ],
          "name": "stdout"
        },
        {
          "output_type": "execute_result",
          "data": {
            "text/plain": [
              "<matplotlib.patches.Rectangle at 0x7fb9f67c5c88>"
            ]
          },
          "metadata": {
            "tags": []
          },
          "execution_count": 14
        },
        {
          "output_type": "display_data",
          "data": {
            "image/png": "[encoded data removed]",
            "text/plain": [
              "<Figure size 432x288 with 1 Axes>"
            ]
          },
          "metadata": {
            "tags": [],
            "needs_background": "light"
          }
        }
      ]
    },
    {
      "cell_type": "code",
      "metadata": {
        "id": "5fUZPQ8MUwXq",
        "colab_type": "code",
        "colab": {}
      },
      "source": [
        "model.save('MyModel')"
      ],
      "execution_count": 0,
      "outputs": []
    },
    {
      "cell_type": "code",
      "metadata": {
        "id": "iyeWGHlo8uNR",
        "colab_type": "code",
        "outputId": "c5f7078d-62aa-4f34-e513-1fa4f8f951df",
        "colab": {
          "base_uri": "https://localhost:8080/",
          "height": 289
        }
      },
      "source": [
        "model.summary()"
      ],
      "execution_count": 22,
      "outputs": [
        {
          "output_type": "stream",
          "text": [
            "Model: \"sequential_1\"\n",
            "_________________________________________________________________\n",
            "Layer (type)                 Output Shape              Param #   \n",
            "=================================================================\n",
            "dense_1 (Dense)              (None, 5000)              10245000  \n",
            "_________________________________________________________________\n",
            "activation_1 (Activation)    (None, 5000)              0         \n",
            "_________________________________________________________________\n",
            "dropout_1 (Dropout)          (None, 5000)              0         \n",
            "_________________________________________________________________\n",
            "dense_2 (Dense)              (None, 4)                 20004     \n",
            "=================================================================\n",
            "Total params: 10,265,004\n",
            "Trainable params: 10,265,004\n",
            "Non-trainable params: 0\n",
            "_________________________________________________________________\n"
          ],
          "name": "stdout"
        }
      ]
    }
  ]
}