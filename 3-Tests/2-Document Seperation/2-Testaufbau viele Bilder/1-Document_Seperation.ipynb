{
  "nbformat": 4,
  "nbformat_minor": 0,
  "metadata": {
    "colab": {
      "name": "Document Seperation.ipynb",
      "provenance": [],
      "collapsed_sections": [],
      "toc_visible": true
    },
    "kernelspec": {
      "name": "python3",
      "display_name": "Python 3"
    }
  },
  "cells": [
    {
      "cell_type": "code",
      "metadata": {
        "id": "_zdgK5lHTLyz",
        "colab_type": "code",
        "colab": {
          "base_uri": "https://localhost:8080/",
          "height": 330
        },
        "outputId": "fff6a946-7ebd-484d-9891-d76b04761a90"
      },
      "source": [
        "!pip install faker\n",
        "!pip install tqdm\n",
        "!pip install keras_application\n",
        "!pip install keras_preprocessing\n",
        "!pip install keras"
      ],
      "execution_count": null,
      "outputs": [
        {
          "output_type": "stream",
          "text": [
            "Requirement already satisfied: faker in /usr/local/lib/python3.6/dist-packages (4.1.1)\n",
            "Requirement already satisfied: python-dateutil>=2.4 in /usr/local/lib/python3.6/dist-packages (from faker) (2.8.1)\n",
            "Requirement already satisfied: text-unidecode==1.3 in /usr/local/lib/python3.6/dist-packages (from faker) (1.3)\n",
            "Requirement already satisfied: six>=1.5 in /usr/local/lib/python3.6/dist-packages (from python-dateutil>=2.4->faker) (1.12.0)\n",
            "Requirement already satisfied: tqdm in /usr/local/lib/python3.6/dist-packages (4.41.1)\n",
            "\u001b[31mERROR: Could not find a version that satisfies the requirement keras_application (from versions: none)\u001b[0m\n",
            "\u001b[31mERROR: No matching distribution found for keras_application\u001b[0m\n",
            "Requirement already satisfied: keras_preprocessing in /usr/local/lib/python3.6/dist-packages (1.1.2)\n",
            "Requirement already satisfied: numpy>=1.9.1 in /usr/local/lib/python3.6/dist-packages (from keras_preprocessing) (1.18.5)\n",
            "Requirement already satisfied: six>=1.9.0 in /usr/local/lib/python3.6/dist-packages (from keras_preprocessing) (1.12.0)\n",
            "Requirement already satisfied: keras in /usr/local/lib/python3.6/dist-packages (2.3.1)\n",
            "Requirement already satisfied: scipy>=0.14 in /usr/local/lib/python3.6/dist-packages (from keras) (1.4.1)\n",
            "Requirement already satisfied: six>=1.9.0 in /usr/local/lib/python3.6/dist-packages (from keras) (1.12.0)\n",
            "Requirement already satisfied: keras-preprocessing>=1.0.5 in /usr/local/lib/python3.6/dist-packages (from keras) (1.1.2)\n",
            "Requirement already satisfied: pyyaml in /usr/local/lib/python3.6/dist-packages (from keras) (3.13)\n",
            "Requirement already satisfied: numpy>=1.9.1 in /usr/local/lib/python3.6/dist-packages (from keras) (1.18.5)\n",
            "Requirement already satisfied: h5py in /usr/local/lib/python3.6/dist-packages (from keras) (2.10.0)\n",
            "Requirement already satisfied: keras-applications>=1.0.6 in /usr/local/lib/python3.6/dist-packages (from keras) (1.0.8)\n"
          ],
          "name": "stdout"
        }
      ]
    },
    {
      "cell_type": "code",
      "metadata": {
        "id": "1NdqE1XnRoC-",
        "colab_type": "code",
        "colab": {}
      },
      "source": [
        "import sys\n",
        "import requests\n",
        "import tarfile\n",
        "import json\n",
        "import numpy as np\n",
        "from os import path\n",
        "from PIL import Image\n",
        "from PIL import ImageFont, ImageDraw\n",
        "from glob import glob\n",
        "from matplotlib import pyplot as plt\n",
        "import cv2\n",
        "\n",
        "import random\n",
        "from tqdm import tqdm\n",
        "\n",
        "from faker import Faker\n",
        "import re\n",
        "import tensorflow as tf\n",
        "from tensorflow import keras\n",
        "import matplotlib.pyplot as plt\n",
        "from tensorflow.keras.callbacks import CSVLogger\n",
        "\n",
        "from keras.applications import MobileNetV2\n",
        "\n",
        "from keras.layers import *\n",
        "from keras.models import Model"
      ],
      "execution_count": null,
      "outputs": []
    },
    {
      "cell_type": "code",
      "metadata": {
        "id": "KU7clMQSocM3",
        "colab_type": "code",
        "colab": {}
      },
      "source": [
        "#Variablen\n",
        "img_w = 512\n",
        "img_h = 512\n",
        "channels = 3\n",
        "classes = 1\n",
        "info = 5\n",
        "grid_w = 16\n",
        "grid_h = 16"
      ],
      "execution_count": null,
      "outputs": []
    },
    {
      "cell_type": "markdown",
      "metadata": {
        "id": "SIZ0gOWSRx5B",
        "colab_type": "text"
      },
      "source": [
        "# Funktionen"
      ]
    },
    {
      "cell_type": "code",
      "metadata": {
        "id": "9WF3j-x-v_jx",
        "colab_type": "code",
        "colab": {}
      },
      "source": [
        "# Function to viz the annotation\n",
        "\n",
        "BildGrößeX = 512\n",
        "BildGrößeY = 512\n",
        "\n",
        "grid_w = 12\n",
        "grid_h = 12\n",
        "\n",
        "def markup(BildWeg, annotations):\n",
        "  # laden der Zusatdaten\n",
        "  Bild = cv2.imread(BildWeg)\n",
        "  x_sl = BildGrößeX/Bild.shape[1]\n",
        "  y_sl = BildGrößeY/Bild.shape[0]\n",
        "\n",
        "  Bild = cv2.resize(Bild, (BildGrößeX, BildGrößeY))\n",
        "\n",
        "  # laden der Infos\n",
        "  Y = np.zeros((grid_h,grid_w,1,5))\n",
        "\n",
        "  for annotation in annotations:\n",
        "      # Draw bbox\n",
        "      # \"bbox\": [37.59, 433.64, 251.07, 20.38]\n",
        "    xmin = annotation['bbox'][0] * x_sl\n",
        "    xmax = (annotation['bbox'][0] + annotation['bbox'][2]) * x_sl\n",
        "\n",
        "    ymin = annotation['bbox'][1] * y_sl\n",
        "    ymax = (annotation['bbox'][1] + annotation['bbox'][3]) * y_sl\n",
        "    \n",
        "    w = (xmax - xmin)/BildGrößeX\n",
        "    h = (ymax - ymin)/BildGrößeY\n",
        "    \n",
        "    x = ((xmax + xmin)/2)/BildGrößeX\n",
        "    y = ((ymax + ymin)/2)/BildGrößeY\n",
        "    x = x * grid_w\n",
        "    y = y * grid_h\n",
        "\n",
        "    Y[int(y),int(x),0,0] = 1\n",
        "    Y[int(y),int(x),0,1] = x - int(x)\n",
        "    Y[int(y),int(x),0,2] = y - int(y)\n",
        "    Y[int(y),int(x),0,3] = w\n",
        "    Y[int(y),int(x),0,4] = h\n",
        "\n",
        "  return Bild, Y"
      ],
      "execution_count": null,
      "outputs": []
    },
    {
      "cell_type": "code",
      "metadata": {
        "id": "R_JALboUwAfx",
        "colab_type": "code",
        "colab": {}
      },
      "source": [
        "# text (\"1\"), title (\"2\"), list (\"3\"), table (\"4\"), figure (\"5\").\n",
        "# \"bbox\": [37.59, 360.34, 251.07, 41.36]\n",
        "\n",
        "def loadData(String1, StringZusatz):\n",
        "  \n",
        "  x = []\n",
        "  y = []\n",
        "\n",
        "  with open(String1, 'r') as fp:\n",
        "      samples = json.load(fp)\n",
        "  # Index images\n",
        "  images = {}\n",
        "  for image in samples['images']:\n",
        "      images[image['id']] = {'file_name': StringZusatz + image['file_name'], 'annotations': []}\n",
        "  for ann in samples['annotations']:\n",
        "      images[ann['image_id']]['annotations'].append(ann)\n",
        "\n",
        "  # Ausschneiden und ausgeben\n",
        "  for i, (_, image) in enumerate(images.items()):\n",
        "    try:\n",
        "      TempImage, ZielMuster = markup(image['file_name'], image['annotations'])\n",
        "      x.append(TempImage)\n",
        "      y.append(ZielMuster)\n",
        "    except Exception:\n",
        "      continue\n",
        "\n",
        "  x = np.array(x)\n",
        "  y = np.array(y)\n",
        "\n",
        "  print(x.shape)\n",
        "  print(y.shape)\n",
        "\n",
        "  return x, y"
      ],
      "execution_count": null,
      "outputs": []
    },
    {
      "cell_type": "markdown",
      "metadata": {
        "id": "QNQA9FtnRztH",
        "colab_type": "text"
      },
      "source": [
        "# Bau des Models"
      ]
    },
    {
      "cell_type": "code",
      "metadata": {
        "id": "J0MhopLAjqQa",
        "colab_type": "code",
        "colab": {}
      },
      "source": [
        "def yolo_model(input_shape):\n",
        "    \n",
        "    inp = Input(input_shape)\n",
        "   \n",
        "    model = MobileNetV2( input_tensor= inp , include_top=False, weights='imagenet')\n",
        "    last_layer = model.output\n",
        "    \n",
        "    conv = Conv2D(512,(3,3) , activation='relu' , padding='same', name=\"ErstesCNNLayer\")(last_layer)\n",
        "    conv = Dropout(0.4)(conv)\n",
        "    bn = BatchNormalization()(conv)\n",
        "    lr = LeakyReLU(alpha=0.1)(bn)\n",
        "    \n",
        "    \n",
        "    conv = Conv2D(128,(3,3) , activation='relu' , padding='same', name=\"ZweitesCNNLayer\")(lr)\n",
        "    conv = Dropout(0.4)(conv)\n",
        "    bn = BatchNormalization()(conv)\n",
        "    lr = LeakyReLU(alpha=0.1)(bn)\n",
        "    \n",
        "    \n",
        "    conv = Conv2D(5,(3,3) , activation='relu' , padding='same')(lr)\n",
        "    \n",
        "    final = Reshape((grid_h,grid_w,classes,info), name=\"Finale\")(conv)\n",
        "    \n",
        "    model = Model(inp,final)\n",
        "    \n",
        "    return model"
      ],
      "execution_count": null,
      "outputs": []
    },
    {
      "cell_type": "code",
      "metadata": {
        "id": "kZnZsmErLznp",
        "colab_type": "code",
        "colab": {
          "base_uri": "https://localhost:8080/",
          "height": 72
        },
        "outputId": "3f2a9995-96a6-4b99-98db-7c4bcce056bb"
      },
      "source": [
        "model = yolo_model((512,512,3))\n",
        "\n",
        "model.compile(loss='binary_crossentropy',\n",
        "            optimizer='adam',\n",
        "            metrics=['accuracy'])"
      ],
      "execution_count": null,
      "outputs": [
        {
          "output_type": "stream",
          "text": [
            "/usr/local/lib/python3.6/dist-packages/keras_applications/mobilenet_v2.py:294: UserWarning: `input_shape` is undefined or non-square, or `rows` is not in [96, 128, 160, 192, 224]. Weights for input shape (224, 224) will be loaded as the default.\n",
            "  warnings.warn('`input_shape` is undefined or non-square, '\n"
          ],
          "name": "stderr"
        }
      ]
    },
    {
      "cell_type": "markdown",
      "metadata": {
        "id": "BzyHR-09QHWK",
        "colab_type": "text"
      },
      "source": [
        "# utils"
      ]
    },
    {
      "cell_type": "code",
      "metadata": {
        "id": "7waQ2wP7QGBy",
        "colab_type": "code",
        "colab": {}
      },
      "source": [
        "from keras.callbacks import ModelCheckpoint\n",
        "from keras.optimizers import Adam\n",
        "\n",
        "#optimizer\n",
        "opt = Adam(lr=0.0001, beta_1=0.9, beta_2=0.999, epsilon=1e-08, decay=0.0)\n",
        "\n",
        "#checkpoint\n",
        "checkpoint = ModelCheckpoint('model1/text_detect.h5', monitor='val_loss', verbose=1, save_best_only=True, mode='min',period=1)"
      ],
      "execution_count": null,
      "outputs": []
    },
    {
      "cell_type": "code",
      "metadata": {
        "id": "ZlP-rSlAQTXR",
        "colab_type": "code",
        "colab": {}
      },
      "source": [
        "def yolo_loss_func(y_true,y_pred):\n",
        "    # y_true : 16,16,1,5\n",
        "    # y_pred : 16,16,1,5\n",
        "    l_coords = 5.0\n",
        "    l_noob = 0.5\n",
        "    coords = y_true[:,:,:,:,0] * l_coords\n",
        "    noobs = (-1*(y_true[:,:,:,:,0] - 1)*l_noob)\n",
        "    p_pred = y_pred[:,:,:,:,0]\n",
        "    p_true = y_true[:,:,:,:,0]\n",
        "    x_true = y_true[:,:,:,:,1]\n",
        "    x_pred = y_pred[:,:,:,:,1]\n",
        "    yy_true = y_true[:,:,:,:,2]\n",
        "    yy_pred = y_pred[:,:,:,:,2]\n",
        "    w_true = y_true[:,:,:,:,3]\n",
        "    w_pred = y_pred[:,:,:,:,3]\n",
        "    h_true = y_true[:,:,:,:,4]\n",
        "    h_pred = y_pred[:,:,:,:,4]\n",
        "    \n",
        "    p_loss_absent = K.sum(K.square(p_pred - p_true)*noobs)\n",
        "    p_loss_present = K.sum(K.square(p_pred - p_true))\n",
        "    x_loss = K.sum(K.square(x_pred - x_true)*coords)\n",
        "    yy_loss = K.sum(K.square(yy_pred - yy_true)*coords)\n",
        "    xy_loss = x_loss + yy_loss\n",
        "    w_loss = K.sum(K.square(K.sqrt(w_pred) - K.sqrt(w_true))*coords)\n",
        "    h_loss = K.sum(K.square(K.sqrt(h_pred) - K.sqrt(h_true))*coords)\n",
        "    wh_loss = w_loss + h_loss\n",
        "    \n",
        "    loss = p_loss_absent + p_loss_present + xy_loss + wh_loss\n",
        "    \n",
        "    return loss"
      ],
      "execution_count": null,
      "outputs": []
    },
    {
      "cell_type": "markdown",
      "metadata": {
        "id": "ZdDhromfR19L",
        "colab_type": "text"
      },
      "source": [
        "# Training\n"
      ]
    },
    {
      "cell_type": "code",
      "metadata": {
        "id": "CFiI2E_FsKiC",
        "colab_type": "code",
        "colab": {}
      },
      "source": [
        "def openTar(Name):\n",
        "  tar = tarfile.open(Name)\n",
        "  tar.extractall()\n",
        "  tar.close()\n"
      ],
      "execution_count": null,
      "outputs": []
    },
    {
      "cell_type": "code",
      "metadata": {
        "id": "bJAkY7JWsXjM",
        "colab_type": "code",
        "colab": {}
      },
      "source": [
        "x = []\n",
        "y = []"
      ],
      "execution_count": null,
      "outputs": []
    },
    {
      "cell_type": "code",
      "metadata": {
        "id": "Zc8DoCXRNhxk",
        "colab_type": "code",
        "colab": {
          "base_uri": "https://localhost:8080/",
          "height": 130
        },
        "outputId": "2ef21909-555f-483e-d145-5da1c548f995"
      },
      "source": [
        "# Daten Laden\n",
        "!curl https://dax-cdn.cdn.appdomain.cloud/dax-publaynet/1.0.0/train-0.tar.gz --output \"train-0.tar.gz\"\n",
        "!curl https://dax-cdn.cdn.appdomain.cloud/dax-publaynet/1.0.0/train-1.tar.gz --output \"train-1.tar.gz\"\n",
        "!curl https://dax-cdn.cdn.appdomain.cloud/dax-publaynet/1.0.0/train-2.tar.gz --output \"train-2.tar.gz\"\n",
        "!curl https://dax-cdn.cdn.appdomain.cloud/dax-publaynet/1.0.0/labels.tar.gz --output \"labels.tar.gz\"\n",
        "\n",
        "openTar(\"train-0.tar.gz\")\n",
        "openTar(\"train-1.tar.gz\")\n",
        "openTar(\"train-2.tar.gz\")\n",
        "openTar(\"labels.tar.gz\")\n",
        "\n",
        "StringToJSON = 'publaynet/train.json'\n",
        "StringToFolder = 'publaynet/train/'\n",
        "\n",
        "x,y = loadData(StringToJSON, StringToFolder)"
      ],
      "execution_count": null,
      "outputs": [
        {
          "output_type": "stream",
          "text": [
            "  % Total    % Received % Xferd  Average Speed   Time    Time     Time  Current\n",
            "                                 Dload  Upload   Total   Spent    Left  Speed\n",
            "  3 12.6G    3  445M    0     0  3401k      0  1:05:11  0:02:14  1:02:57 3778k^C\n",
            "  % Total    % Received % Xferd  Average Speed   Time    Time     Time  Current\n",
            "                                 Dload  Upload   Total   Spent    Left  Speed\n",
            "  0 12.6G    0 78.0M    0     0  6008k      0  0:36:55  0:00:13  0:36:42 6664k"
          ],
          "name": "stdout"
        }
      ]
    },
    {
      "cell_type": "code",
      "metadata": {
        "id": "_RWnjwCxR_Ph",
        "colab_type": "code",
        "colab": {
          "base_uri": "https://localhost:8080/",
          "height": 1000
        },
        "outputId": "a830b3fd-d2a2-4526-9339-667a55bd6ffa"
      },
      "source": [
        "csv_logger = CSVLogger('log.csv', append=True, separator=';')\n",
        "\n",
        "history = model.fit(x, y, epochs= 32 ,batch_size = 4, validation_split=0.3 , callbacks=[csv_logger, checkpoint])\n",
        "\n",
        "model.save('model')"
      ],
      "execution_count": null,
      "outputs": [
        {
          "output_type": "stream",
          "text": [
            "Epoch 1/30\n",
            "20/20 [==============================] - 40s 2s/step - loss: 1.7645 - accuracy: 0.7953\n",
            "Epoch 2/30\n"
          ],
          "name": "stdout"
        },
        {
          "output_type": "stream",
          "text": [
            "/usr/local/lib/python3.6/dist-packages/keras/callbacks/callbacks.py:707: RuntimeWarning: Can save best model only with val_loss available, skipping.\n",
            "  'skipping.' % (self.monitor), RuntimeWarning)\n"
          ],
          "name": "stderr"
        },
        {
          "output_type": "stream",
          "text": [
            "20/20 [==============================] - 25s 1s/step - loss: 0.3845 - accuracy: 0.9424\n",
            "Epoch 3/30\n",
            "20/20 [==============================] - 25s 1s/step - loss: 0.3642 - accuracy: 0.9489\n",
            "Epoch 4/30\n",
            "20/20 [==============================] - 26s 1s/step - loss: 0.3374 - accuracy: 0.9544\n",
            "Epoch 5/30\n",
            "20/20 [==============================] - 25s 1s/step - loss: 0.3042 - accuracy: 0.9591\n",
            "Epoch 6/30\n",
            "20/20 [==============================] - 25s 1s/step - loss: 0.2978 - accuracy: 0.9614\n",
            "Epoch 7/30\n",
            "20/20 [==============================] - 25s 1s/step - loss: 0.2943 - accuracy: 0.9623\n",
            "Epoch 8/30\n",
            "20/20 [==============================] - 25s 1s/step - loss: 0.2919 - accuracy: 0.9621\n",
            "Epoch 9/30\n",
            "20/20 [==============================] - 25s 1s/step - loss: 0.2941 - accuracy: 0.9624\n",
            "Epoch 10/30\n",
            "20/20 [==============================] - 25s 1s/step - loss: 0.2932 - accuracy: 0.9625\n",
            "Epoch 11/30\n",
            "20/20 [==============================] - 25s 1s/step - loss: 0.2916 - accuracy: 0.9625\n",
            "Epoch 12/30\n",
            "20/20 [==============================] - 25s 1s/step - loss: 0.2933 - accuracy: 0.9626\n",
            "Epoch 13/30\n",
            "20/20 [==============================] - 25s 1s/step - loss: 0.2905 - accuracy: 0.9626\n",
            "Epoch 14/30\n",
            "20/20 [==============================] - 25s 1s/step - loss: 0.2901 - accuracy: 0.9628\n",
            "Epoch 15/30\n",
            "20/20 [==============================] - 25s 1s/step - loss: 0.2909 - accuracy: 0.9626\n",
            "Epoch 16/30\n",
            "20/20 [==============================] - 25s 1s/step - loss: 0.2906 - accuracy: 0.9628\n",
            "Epoch 17/30\n",
            "20/20 [==============================] - 26s 1s/step - loss: 0.2903 - accuracy: 0.9625\n",
            "Epoch 18/30\n",
            "20/20 [==============================] - 25s 1s/step - loss: 0.2892 - accuracy: 0.9624\n",
            "Epoch 19/30\n",
            "20/20 [==============================] - 25s 1s/step - loss: 0.2885 - accuracy: 0.9624\n",
            "Epoch 20/30\n",
            "20/20 [==============================] - 25s 1s/step - loss: 0.2925 - accuracy: 0.9626\n",
            "Epoch 21/30\n",
            "20/20 [==============================] - 25s 1s/step - loss: 0.2902 - accuracy: 0.9627\n",
            "Epoch 22/30\n",
            "20/20 [==============================] - 25s 1s/step - loss: 0.2911 - accuracy: 0.9625\n",
            "Epoch 23/30\n",
            "20/20 [==============================] - 25s 1s/step - loss: 0.2874 - accuracy: 0.9627\n",
            "Epoch 24/30\n",
            "20/20 [==============================] - 25s 1s/step - loss: 0.2897 - accuracy: 0.9628\n",
            "Epoch 25/30\n",
            "20/20 [==============================] - 28s 1s/step - loss: 0.2900 - accuracy: 0.9628\n",
            "Epoch 26/30\n",
            "20/20 [==============================] - 25s 1s/step - loss: 0.2909 - accuracy: 0.9628\n",
            "Epoch 27/30\n",
            "20/20 [==============================] - 25s 1s/step - loss: 0.2907 - accuracy: 0.9626\n",
            "Epoch 28/30\n",
            "20/20 [==============================] - 25s 1s/step - loss: 0.2912 - accuracy: 0.9625\n",
            "Epoch 29/30\n",
            "20/20 [==============================] - 25s 1s/step - loss: 0.2922 - accuracy: 0.9625\n",
            "Epoch 30/30\n",
            "20/20 [==============================] - 25s 1s/step - loss: 0.2921 - accuracy: 0.9624\n"
          ],
          "name": "stdout"
        }
      ]
    },
    {
      "cell_type": "markdown",
      "metadata": {
        "id": "Q6iogP-OSBrU",
        "colab_type": "text"
      },
      "source": [
        "# Auswertung\n"
      ]
    },
    {
      "cell_type": "code",
      "metadata": {
        "id": "m0GaD3vqSC8f",
        "colab_type": "code",
        "colab": {
          "base_uri": "https://localhost:8080/",
          "height": 34
        },
        "outputId": "e3815ae5-c0d2-4ddc-9919-0f2864c41c44"
      },
      "source": [
        "plt.xkcd()"
      ],
      "execution_count": null,
      "outputs": [
        {
          "output_type": "execute_result",
          "data": {
            "text/plain": [
              "<matplotlib.rc_context at 0x7f9506e93128>"
            ]
          },
          "metadata": {
            "tags": []
          },
          "execution_count": 99
        }
      ]
    },
    {
      "cell_type": "code",
      "metadata": {
        "id": "4cP8s5l8SFNT",
        "colab_type": "code",
        "colab": {
          "base_uri": "https://localhost:8080/",
          "height": 290
        },
        "outputId": "2dfb97c3-85f2-4464-bba4-02114e540065"
      },
      "source": [
        "#plt.plot(history.history['val_loss'], label = 'val_loss')\n",
        "plt.plot(history.history['loss'], label = 'loss')\n",
        "\n",
        "plt.xlabel('Epoch')\n",
        "plt.ylabel('Loss')\n",
        "plt.ylim([0, 5])\n",
        "plt.legend(loc='center right')\n",
        "plt.show()"
      ],
      "execution_count": null,
      "outputs": [
        {
          "output_type": "display_data",
          "data": {
            "image/png": "[encoded data removed]",
            "text/plain": [
              "<Figure size 432x288 with 1 Axes>"
            ]
          },
          "metadata": {
            "tags": []
          }
        }
      ]
    },
    {
      "cell_type": "code",
      "metadata": {
        "id": "L3jbpPNFSHRf",
        "colab_type": "code",
        "colab": {
          "base_uri": "https://localhost:8080/",
          "height": 290
        },
        "outputId": "d37283c0-411b-4c66-d373-b5d60786399e"
      },
      "source": [
        "#plt.plot(history.history['val_accuracy'], label = 'val_accuracy')\n",
        "plt.plot(history.history['accuracy'], label = 'accuracy')\n",
        "\n",
        "plt.xlabel('Epoch')\n",
        "plt.ylabel('Accuracy')\n",
        "plt.ylim([0, 1])\n",
        "plt.legend(loc='lower right')\n",
        "plt.show()"
      ],
      "execution_count": null,
      "outputs": [
        {
          "output_type": "display_data",
          "data": {
            "image/png": "[encoded data removed]",
            "text/plain": [
              "<Figure size 432x288 with 1 Axes>"
            ]
          },
          "metadata": {
            "tags": []
          }
        }
      ]
    },
    {
      "cell_type": "markdown",
      "metadata": {
        "id": "ZuGWjyzVSL87",
        "colab_type": "text"
      },
      "source": [
        "# Analyse"
      ]
    },
    {
      "cell_type": "code",
      "metadata": {
        "id": "yXNIjxOwtVe3",
        "colab_type": "code",
        "colab": {}
      },
      "source": [
        "# Daten Laden\n",
        "!curl https://dax-cdn.cdn.appdomain.cloud/dax-publaynet/1.0.0/examples.tar.gz --output \"examples.tar.gz\"\n",
        "\n",
        "openTar(\"examples.tar.gz\")\n",
        "\n",
        "StringToJSON = 'examples/samples.json'\n",
        "StringToFolder = 'examples/'\n",
        "\n",
        "x,y = loadData(StringToJSON, StringToFolder)"
      ],
      "execution_count": null,
      "outputs": []
    }
  ]
}