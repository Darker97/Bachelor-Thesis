{
  "nbformat": 4,
  "nbformat_minor": 0,
  "metadata": {
    "colab": {
      "name": "Document Seperation.ipynb",
      "provenance": [],
      "collapsed_sections": [],
      "toc_visible": true
    },
    "kernelspec": {
      "name": "python3",
      "display_name": "Python 3"
    }
  },
  "cells": [
    {
      "cell_type": "code",
      "metadata": {
        "id": "_zdgK5lHTLyz",
        "colab_type": "code",
        "colab": {
          "base_uri": "https://localhost:8080/",
          "height": 364
        },
        "outputId": "833db27d-6dc7-4023-9d6d-d28a2344835f"
      },
      "source": [
        "!pip install faker\n",
        "!pip install tqdm\n",
        "!pip install keras_preprocessing\n",
        "!pip install keras"
      ],
      "execution_count": 1,
      "outputs": [
        {
          "output_type": "stream",
          "text": [
            "Collecting faker\n",
            "\u001b[?25l  Downloading https://files.pythonhosted.org/packages/de/21/a0c2ed68ca140d0a5bd0ac762f05cbe03dd52ffb577ae5d5c973dc85e103/Faker-4.1.1-py3-none-any.whl (1.0MB)\n",
            "\r\u001b[K     |▎                               | 10kB 16.6MB/s eta 0:00:01\r\u001b[K     |▋                               | 20kB 3.1MB/s eta 0:00:01\r\u001b[K     |█                               | 30kB 4.1MB/s eta 0:00:01\r\u001b[K     |█▎                              | 40kB 4.5MB/s eta 0:00:01\r\u001b[K     |█▋                              | 51kB 3.6MB/s eta 0:00:01\r\u001b[K     |██                              | 61kB 4.0MB/s eta 0:00:01\r\u001b[K     |██▎                             | 71kB 4.2MB/s eta 0:00:01\r\u001b[K     |██▌                             | 81kB 4.6MB/s eta 0:00:01\r\u001b[K     |██▉                             | 92kB 4.6MB/s eta 0:00:01\r\u001b[K     |███▏                            | 102kB 4.9MB/s eta 0:00:01\r\u001b[K     |███▌                            | 112kB 4.9MB/s eta 0:00:01\r\u001b[K     |███▉                            | 122kB 4.9MB/s eta 0:00:01\r\u001b[K     |████▏                           | 133kB 4.9MB/s eta 0:00:01\r\u001b[K     |████▌                           | 143kB 4.9MB/s eta 0:00:01\r\u001b[K     |████▉                           | 153kB 4.9MB/s eta 0:00:01\r\u001b[K     |█████                           | 163kB 4.9MB/s eta 0:00:01\r\u001b[K     |█████▍                          | 174kB 4.9MB/s eta 0:00:01\r\u001b[K     |█████▊                          | 184kB 4.9MB/s eta 0:00:01\r\u001b[K     |██████                          | 194kB 4.9MB/s eta 0:00:01\r\u001b[K     |██████▍                         | 204kB 4.9MB/s eta 0:00:01\r\u001b[K     |██████▊                         | 215kB 4.9MB/s eta 0:00:01\r\u001b[K     |███████                         | 225kB 4.9MB/s eta 0:00:01\r\u001b[K     |███████▍                        | 235kB 4.9MB/s eta 0:00:01\r\u001b[K     |███████▋                        | 245kB 4.9MB/s eta 0:00:01\r\u001b[K     |████████                        | 256kB 4.9MB/s eta 0:00:01\r\u001b[K     |████████▎                       | 266kB 4.9MB/s eta 0:00:01\r\u001b[K     |████████▋                       | 276kB 4.9MB/s eta 0:00:01\r\u001b[K     |█████████                       | 286kB 4.9MB/s eta 0:00:01\r\u001b[K     |█████████▎                      | 296kB 4.9MB/s eta 0:00:01\r\u001b[K     |█████████▋                      | 307kB 4.9MB/s eta 0:00:01\r\u001b[K     |██████████                      | 317kB 4.9MB/s eta 0:00:01\r\u001b[K     |██████████▏                     | 327kB 4.9MB/s eta 0:00:01\r\u001b[K     |██████████▌                     | 337kB 4.9MB/s eta 0:00:01\r\u001b[K     |██████████▉                     | 348kB 4.9MB/s eta 0:00:01\r\u001b[K     |███████████▏                    | 358kB 4.9MB/s eta 0:00:01\r\u001b[K     |███████████▌                    | 368kB 4.9MB/s eta 0:00:01\r\u001b[K     |███████████▉                    | 378kB 4.9MB/s eta 0:00:01\r\u001b[K     |████████████▏                   | 389kB 4.9MB/s eta 0:00:01\r\u001b[K     |████████████▌                   | 399kB 4.9MB/s eta 0:00:01\r\u001b[K     |████████████▊                   | 409kB 4.9MB/s eta 0:00:01\r\u001b[K     |█████████████                   | 419kB 4.9MB/s eta 0:00:01\r\u001b[K     |█████████████▍                  | 430kB 4.9MB/s eta 0:00:01\r\u001b[K     |█████████████▊                  | 440kB 4.9MB/s eta 0:00:01\r\u001b[K     |██████████████                  | 450kB 4.9MB/s eta 0:00:01\r\u001b[K     |██████████████▍                 | 460kB 4.9MB/s eta 0:00:01\r\u001b[K     |██████████████▊                 | 471kB 4.9MB/s eta 0:00:01\r\u001b[K     |███████████████                 | 481kB 4.9MB/s eta 0:00:01\r\u001b[K     |███████████████▎                | 491kB 4.9MB/s eta 0:00:01\r\u001b[K     |███████████████▋                | 501kB 4.9MB/s eta 0:00:01\r\u001b[K     |████████████████                | 512kB 4.9MB/s eta 0:00:01\r\u001b[K     |████████████████▎               | 522kB 4.9MB/s eta 0:00:01\r\u001b[K     |████████████████▋               | 532kB 4.9MB/s eta 0:00:01\r\u001b[K     |█████████████████               | 542kB 4.9MB/s eta 0:00:01\r\u001b[K     |█████████████████▎              | 552kB 4.9MB/s eta 0:00:01\r\u001b[K     |█████████████████▋              | 563kB 4.9MB/s eta 0:00:01\r\u001b[K     |█████████████████▉              | 573kB 4.9MB/s eta 0:00:01\r\u001b[K     |██████████████████▏             | 583kB 4.9MB/s eta 0:00:01\r\u001b[K     |██████████████████▌             | 593kB 4.9MB/s eta 0:00:01\r\u001b[K     |██████████████████▉             | 604kB 4.9MB/s eta 0:00:01\r\u001b[K     |███████████████████▏            | 614kB 4.9MB/s eta 0:00:01\r\u001b[K     |███████████████████▌            | 624kB 4.9MB/s eta 0:00:01\r\u001b[K     |███████████████████▉            | 634kB 4.9MB/s eta 0:00:01\r\u001b[K     |████████████████████▏           | 645kB 4.9MB/s eta 0:00:01\r\u001b[K     |████████████████████▍           | 655kB 4.9MB/s eta 0:00:01\r\u001b[K     |████████████████████▊           | 665kB 4.9MB/s eta 0:00:01\r\u001b[K     |█████████████████████           | 675kB 4.9MB/s eta 0:00:01\r\u001b[K     |█████████████████████▍          | 686kB 4.9MB/s eta 0:00:01\r\u001b[K     |█████████████████████▊          | 696kB 4.9MB/s eta 0:00:01\r\u001b[K     |██████████████████████          | 706kB 4.9MB/s eta 0:00:01\r\u001b[K     |██████████████████████▍         | 716kB 4.9MB/s eta 0:00:01\r\u001b[K     |██████████████████████▊         | 727kB 4.9MB/s eta 0:00:01\r\u001b[K     |███████████████████████         | 737kB 4.9MB/s eta 0:00:01\r\u001b[K     |███████████████████████▎        | 747kB 4.9MB/s eta 0:00:01\r\u001b[K     |███████████████████████▋        | 757kB 4.9MB/s eta 0:00:01\r\u001b[K     |████████████████████████        | 768kB 4.9MB/s eta 0:00:01\r\u001b[K     |████████████████████████▎       | 778kB 4.9MB/s eta 0:00:01\r\u001b[K     |████████████████████████▋       | 788kB 4.9MB/s eta 0:00:01\r\u001b[K     |█████████████████████████       | 798kB 4.9MB/s eta 0:00:01\r\u001b[K     |█████████████████████████▎      | 808kB 4.9MB/s eta 0:00:01\r\u001b[K     |█████████████████████████▌      | 819kB 4.9MB/s eta 0:00:01\r\u001b[K     |█████████████████████████▉      | 829kB 4.9MB/s eta 0:00:01\r\u001b[K     |██████████████████████████▏     | 839kB 4.9MB/s eta 0:00:01\r\u001b[K     |██████████████████████████▌     | 849kB 4.9MB/s eta 0:00:01\r\u001b[K     |██████████████████████████▉     | 860kB 4.9MB/s eta 0:00:01\r\u001b[K     |███████████████████████████▏    | 870kB 4.9MB/s eta 0:00:01\r\u001b[K     |███████████████████████████▌    | 880kB 4.9MB/s eta 0:00:01\r\u001b[K     |███████████████████████████▉    | 890kB 4.9MB/s eta 0:00:01\r\u001b[K     |████████████████████████████    | 901kB 4.9MB/s eta 0:00:01\r\u001b[K     |████████████████████████████▍   | 911kB 4.9MB/s eta 0:00:01\r\u001b[K     |████████████████████████████▊   | 921kB 4.9MB/s eta 0:00:01\r\u001b[K     |█████████████████████████████   | 931kB 4.9MB/s eta 0:00:01\r\u001b[K     |█████████████████████████████▍  | 942kB 4.9MB/s eta 0:00:01\r\u001b[K     |█████████████████████████████▊  | 952kB 4.9MB/s eta 0:00:01\r\u001b[K     |██████████████████████████████  | 962kB 4.9MB/s eta 0:00:01\r\u001b[K     |██████████████████████████████▍ | 972kB 4.9MB/s eta 0:00:01\r\u001b[K     |██████████████████████████████▋ | 983kB 4.9MB/s eta 0:00:01\r\u001b[K     |███████████████████████████████ | 993kB 4.9MB/s eta 0:00:01\r\u001b[K     |███████████████████████████████▎| 1.0MB 4.9MB/s eta 0:00:01\r\u001b[K     |███████████████████████████████▋| 1.0MB 4.9MB/s eta 0:00:01\r\u001b[K     |████████████████████████████████| 1.0MB 4.9MB/s eta 0:00:01\r\u001b[K     |████████████████████████████████| 1.0MB 4.9MB/s \n",
            "\u001b[?25hRequirement already satisfied: python-dateutil>=2.4 in /usr/local/lib/python3.6/dist-packages (from faker) (2.8.1)\n",
            "Requirement already satisfied: text-unidecode==1.3 in /usr/local/lib/python3.6/dist-packages (from faker) (1.3)\n",
            "Requirement already satisfied: six>=1.5 in /usr/local/lib/python3.6/dist-packages (from python-dateutil>=2.4->faker) (1.12.0)\n",
            "Installing collected packages: faker\n",
            "Successfully installed faker-4.1.1\n",
            "Requirement already satisfied: tqdm in /usr/local/lib/python3.6/dist-packages (4.41.1)\n",
            "Requirement already satisfied: keras_preprocessing in /usr/local/lib/python3.6/dist-packages (1.1.2)\n",
            "Requirement already satisfied: numpy>=1.9.1 in /usr/local/lib/python3.6/dist-packages (from keras_preprocessing) (1.18.5)\n",
            "Requirement already satisfied: six>=1.9.0 in /usr/local/lib/python3.6/dist-packages (from keras_preprocessing) (1.12.0)\n",
            "Requirement already satisfied: keras in /usr/local/lib/python3.6/dist-packages (2.3.1)\n",
            "Requirement already satisfied: keras-preprocessing>=1.0.5 in /usr/local/lib/python3.6/dist-packages (from keras) (1.1.2)\n",
            "Requirement already satisfied: h5py in /usr/local/lib/python3.6/dist-packages (from keras) (2.10.0)\n",
            "Requirement already satisfied: six>=1.9.0 in /usr/local/lib/python3.6/dist-packages (from keras) (1.12.0)\n",
            "Requirement already satisfied: scipy>=0.14 in /usr/local/lib/python3.6/dist-packages (from keras) (1.4.1)\n",
            "Requirement already satisfied: keras-applications>=1.0.6 in /usr/local/lib/python3.6/dist-packages (from keras) (1.0.8)\n",
            "Requirement already satisfied: pyyaml in /usr/local/lib/python3.6/dist-packages (from keras) (3.13)\n",
            "Requirement already satisfied: numpy>=1.9.1 in /usr/local/lib/python3.6/dist-packages (from keras) (1.18.5)\n"
          ],
          "name": "stdout"
        }
      ]
    },
    {
      "cell_type": "code",
      "metadata": {
        "id": "1NdqE1XnRoC-",
        "colab_type": "code",
        "colab": {
          "base_uri": "https://localhost:8080/",
          "height": 34
        },
        "outputId": "0d8d98bc-cc06-48cf-ff10-6ec80ad33cbb"
      },
      "source": [
        "import sys\n",
        "import requests\n",
        "import tarfile\n",
        "import json\n",
        "import numpy as np\n",
        "from os import path\n",
        "from PIL import Image\n",
        "from PIL import ImageFont, ImageDraw\n",
        "from glob import glob\n",
        "from matplotlib import pyplot as plt\n",
        "import cv2\n",
        "\n",
        "import random\n",
        "from tqdm import tqdm\n",
        "\n",
        "from faker import Faker\n",
        "import re\n",
        "import tensorflow as tf\n",
        "from tensorflow import keras\n",
        "import matplotlib.pyplot as plt\n",
        "from tensorflow.keras.callbacks import CSVLogger\n",
        "\n",
        "from keras.applications import MobileNetV2\n",
        "\n",
        "from keras.layers import *\n",
        "from keras.models import Model"
      ],
      "execution_count": 2,
      "outputs": [
        {
          "output_type": "stream",
          "text": [
            "Using TensorFlow backend.\n"
          ],
          "name": "stderr"
        }
      ]
    },
    {
      "cell_type": "code",
      "metadata": {
        "id": "KU7clMQSocM3",
        "colab_type": "code",
        "colab": {}
      },
      "source": [
        "#Variablen\n",
        "img_w = 512\n",
        "img_h = 512\n",
        "channels = 3\n",
        "classes = 1\n",
        "info = 5\n",
        "grid_w = 16\n",
        "grid_h = 16"
      ],
      "execution_count": 3,
      "outputs": []
    },
    {
      "cell_type": "markdown",
      "metadata": {
        "id": "SIZ0gOWSRx5B",
        "colab_type": "text"
      },
      "source": [
        "# Funktionen"
      ]
    },
    {
      "cell_type": "code",
      "metadata": {
        "id": "9WF3j-x-v_jx",
        "colab_type": "code",
        "colab": {}
      },
      "source": [
        "# Function to viz the annotation\n",
        "\n",
        "BildGrößeX = 512\n",
        "BildGrößeY = 512\n",
        "\n",
        "def markup(BildWeg, annotations):\n",
        "  # laden der Zusatdaten\n",
        "  Bild = cv2.imread(BildWeg)\n",
        "  print(Bild)\n",
        "  x_sl = BildGrößeX/Bild.shape[1]\n",
        "  y_sl = BildGrößeY/Bild.shape[0]\n",
        "\n",
        "  Bild = cv2.resize(Bild, (BildGrößeX, BildGrößeY))\n",
        "\n",
        "  # laden der Infos\n",
        "  Y = np.zeros((grid_h,grid_w,1,5))\n",
        "\n",
        "  for annotation in annotations:\n",
        "      # \"bbox\": [37.59, 433.64, 251.07, 20.38]\n",
        "    xmin = annotation['bbox'][0] * x_sl\n",
        "    xmax = (annotation['bbox'][0] + annotation['bbox'][2]) * x_sl\n",
        "\n",
        "    ymin = annotation['bbox'][1] * y_sl\n",
        "    ymax = (annotation['bbox'][1] + annotation['bbox'][3]) * y_sl\n",
        "    \n",
        "    w = (xmax - xmin)/BildGrößeX\n",
        "    h = (ymax - ymin)/BildGrößeY\n",
        "    \n",
        "    x = ((xmax + xmin)/2)/BildGrößeX\n",
        "    y = ((ymax + ymin)/2)/BildGrößeY\n",
        "    x = x * grid_w\n",
        "    y = y * grid_h\n",
        "\n",
        "    Y[int(y),int(x),0,0] = 1\n",
        "    Y[int(y),int(x),0,1] = x - int(x)\n",
        "    Y[int(y),int(x),0,2] = y - int(y)\n",
        "    Y[int(y),int(x),0,3] = w\n",
        "    Y[int(y),int(x),0,4] = h\n",
        "\n",
        "  return Bild, Y"
      ],
      "execution_count": 4,
      "outputs": []
    },
    {
      "cell_type": "markdown",
      "metadata": {
        "id": "QNQA9FtnRztH",
        "colab_type": "text"
      },
      "source": [
        "# Model Funktionen\n"
      ]
    },
    {
      "cell_type": "code",
      "metadata": {
        "id": "J0MhopLAjqQa",
        "colab_type": "code",
        "colab": {}
      },
      "source": [
        "def yolo_model(input_shape):\n",
        "    \n",
        "    inp = Input(input_shape)\n",
        "   \n",
        "    model = MobileNetV2( input_tensor= inp , include_top=False, weights='imagenet')\n",
        "    last_layer = model.output\n",
        "    \n",
        "    conv = Conv2D(512,(3,3) , activation='relu' , padding='same', name=\"ErstesCNNLayer\")(last_layer)\n",
        "    conv = Dropout(0.4)(conv)\n",
        "    bn = BatchNormalization()(conv)\n",
        "    lr = LeakyReLU(alpha=0.1)(bn)\n",
        "    \n",
        "    \n",
        "    conv = Conv2D(128,(3,3) , activation='relu' , padding='same', name=\"ZweitesCNNLayer\")(lr)\n",
        "    conv = Dropout(0.4)(conv)\n",
        "    bn = BatchNormalization()(conv)\n",
        "    lr = LeakyReLU(alpha=0.1)(bn)\n",
        "    \n",
        "    \n",
        "    conv = Conv2D(5,(3,3) , activation='relu' , padding='same')(lr)\n",
        "    \n",
        "    final = Reshape((grid_h,grid_w,classes,info), name=\"Finale\")(conv)\n",
        "    \n",
        "    model = Model(inp,final)\n",
        "    \n",
        "    return model"
      ],
      "execution_count": 5,
      "outputs": []
    },
    {
      "cell_type": "code",
      "metadata": {
        "id": "tFkZJ-gN-LP2",
        "colab_type": "code",
        "colab": {}
      },
      "source": [
        "def yolo_loss_func(y_true,y_pred):\n",
        "    # y_true : 16,16,1,5\n",
        "    # y_pred : 16,16,1,5\n",
        "    l_coords = 5.0\n",
        "    l_noob = 0.5\n",
        "    coords = y_true[:,:,:,:,0] * l_coords\n",
        "    noobs = (-1*(y_true[:,:,:,:,0] - 1)*l_noob)\n",
        "    p_pred = y_pred[:,:,:,:,0]\n",
        "    p_true = y_true[:,:,:,:,0]\n",
        "    x_true = y_true[:,:,:,:,1]\n",
        "    x_pred = y_pred[:,:,:,:,1]\n",
        "    yy_true = y_true[:,:,:,:,2]\n",
        "    yy_pred = y_pred[:,:,:,:,2]\n",
        "    w_true = y_true[:,:,:,:,3]\n",
        "    w_pred = y_pred[:,:,:,:,3]\n",
        "    h_true = y_true[:,:,:,:,4]\n",
        "    h_pred = y_pred[:,:,:,:,4]\n",
        "    \n",
        "    p_loss_absent = K.sum(K.square(p_pred - p_true)*noobs)\n",
        "    p_loss_present = K.sum(K.square(p_pred - p_true))\n",
        "    x_loss = K.sum(K.square(x_pred - x_true)*coords)\n",
        "    yy_loss = K.sum(K.square(yy_pred - yy_true)*coords)\n",
        "    xy_loss = x_loss + yy_loss\n",
        "    w_loss = K.sum(K.square(K.sqrt(w_pred) - K.sqrt(w_true))*coords)\n",
        "    h_loss = K.sum(K.square(K.sqrt(h_pred) - K.sqrt(h_true))*coords)\n",
        "    wh_loss = w_loss + h_loss\n",
        "    \n",
        "    loss = p_loss_absent + p_loss_present + xy_loss + wh_loss\n",
        "    \n",
        "    return loss"
      ],
      "execution_count": 6,
      "outputs": []
    },
    {
      "cell_type": "markdown",
      "metadata": {
        "id": "BzyHR-09QHWK",
        "colab_type": "text"
      },
      "source": [
        "# Model Bau"
      ]
    },
    {
      "cell_type": "code",
      "metadata": {
        "id": "7waQ2wP7QGBy",
        "colab_type": "code",
        "colab": {}
      },
      "source": [
        "from keras.callbacks import ModelCheckpoint\n",
        "from keras.optimizers import Adam\n",
        "\n",
        "#optimizer\n",
        "opt = Adam(lr=0.0001, beta_1=0.9, beta_2=0.999, epsilon=1e-08, decay=0.0)\n",
        "\n",
        "csv_logger = CSVLogger('log.csv', append=True, separator=';')\n",
        "\n",
        "#checkpoint\n",
        "checkpoint = ModelCheckpoint('model1/text_detect.h5', monitor='val_loss', verbose=1, save_best_only=True, mode='min',period=1)"
      ],
      "execution_count": 7,
      "outputs": []
    },
    {
      "cell_type": "code",
      "metadata": {
        "id": "kZnZsmErLznp",
        "colab_type": "code",
        "colab": {
          "base_uri": "https://localhost:8080/",
          "height": 106
        },
        "outputId": "1850e6fe-c88b-433d-cf0d-fcaf138db88f"
      },
      "source": [
        "model = yolo_model((512,512,3))\n",
        "\n",
        "model.compile(loss='binary_crossentropy',\n",
        "            optimizer='adam',\n",
        "            metrics=['accuracy'])"
      ],
      "execution_count": 8,
      "outputs": [
        {
          "output_type": "stream",
          "text": [
            "/usr/local/lib/python3.6/dist-packages/keras_applications/mobilenet_v2.py:294: UserWarning: `input_shape` is undefined or non-square, or `rows` is not in [96, 128, 160, 192, 224]. Weights for input shape (224, 224) will be loaded as the default.\n",
            "  warnings.warn('`input_shape` is undefined or non-square, '\n"
          ],
          "name": "stderr"
        },
        {
          "output_type": "stream",
          "text": [
            "Downloading data from https://github.com/JonathanCMitchell/mobilenet_v2_keras/releases/download/v1.1/mobilenet_v2_weights_tf_dim_ordering_tf_kernels_1.0_224_no_top.h5\n",
            "9412608/9406464 [==============================] - 1s 0us/step\n"
          ],
          "name": "stdout"
        }
      ]
    },
    {
      "cell_type": "markdown",
      "metadata": {
        "id": "ZdDhromfR19L",
        "colab_type": "text"
      },
      "source": [
        "# Training\n"
      ]
    },
    {
      "cell_type": "code",
      "metadata": {
        "id": "CFiI2E_FsKiC",
        "colab_type": "code",
        "colab": {}
      },
      "source": [
        "def openTar(Name):\n",
        "  tar = tarfile.open(Name)\n",
        "  tar.extractall()\n",
        "  tar.close()\n",
        "  print(Name + \" entpacked\")\n"
      ],
      "execution_count": 9,
      "outputs": []
    },
    {
      "cell_type": "code",
      "metadata": {
        "id": "bJAkY7JWsXjM",
        "colab_type": "code",
        "colab": {}
      },
      "source": [
        "x = []\n",
        "y = []"
      ],
      "execution_count": 10,
      "outputs": []
    },
    {
      "cell_type": "code",
      "metadata": {
        "id": "5URQqYaL2AEn",
        "colab_type": "code",
        "colab": {
          "base_uri": "https://localhost:8080/",
          "height": 432
        },
        "outputId": "65e3ec93-daca-4eee-926e-40ca9759e756"
      },
      "source": [
        "# Daten Laden\n",
        "!curl https://dax-cdn.cdn.appdomain.cloud/dax-publaynet/1.0.0/train-0.tar.gz --output \"train-0.tar.gz\"\n",
        "openTar(\"train-0.tar.gz\")\n",
        "!rm train-0.tar.gz\n",
        "\n",
        "!curl https://dax-cdn.cdn.appdomain.cloud/dax-publaynet/1.0.0/train-1.tar.gz --output \"train-1.tar.gz\"\n",
        "openTar(\"train-1.tar.gz\")\n",
        "!rm train-1.tar.gz\n",
        "\n",
        "!curl https://dax-cdn.cdn.appdomain.cloud/dax-publaynet/1.0.0/labels.tar.gz --output \"labels.tar.gz\"\n",
        "openTar(\"labels.tar.gz\")\n",
        "!rm labels.tar.gz\n"
      ],
      "execution_count": 12,
      "outputs": [
        {
          "output_type": "stream",
          "text": [
            "  % Total    % Received % Xferd  Average Speed   Time    Time     Time  Current\n",
            "                                 Dload  Upload   Total   Spent    Left  Speed\n",
            " 30 12.6G   30 3922M    0     0  53.4M      0  0:04:03  0:01:13  0:02:50 43.6M^C\n"
          ],
          "name": "stdout"
        },
        {
          "output_type": "error",
          "ename": "KeyboardInterrupt",
          "evalue": "ignored",
          "traceback": [
            "\u001b[0;31m---------------------------------------------------------------------------\u001b[0m",
            "\u001b[0;31mKeyboardInterrupt\u001b[0m                         Traceback (most recent call last)",
            "\u001b[0;32m<ipython-input-12-193a0b9fc64e>\u001b[0m in \u001b[0;36m<module>\u001b[0;34m()\u001b[0m\n\u001b[1;32m      1\u001b[0m \u001b[0;31m# Daten Laden\u001b[0m\u001b[0;34m\u001b[0m\u001b[0;34m\u001b[0m\u001b[0;34m\u001b[0m\u001b[0m\n\u001b[1;32m      2\u001b[0m \u001b[0mget_ipython\u001b[0m\u001b[0;34m(\u001b[0m\u001b[0;34m)\u001b[0m\u001b[0;34m.\u001b[0m\u001b[0msystem\u001b[0m\u001b[0;34m(\u001b[0m\u001b[0;34m'curl https://dax-cdn.cdn.appdomain.cloud/dax-publaynet/1.0.0/train-0.tar.gz --output \"train-0.tar.gz\"'\u001b[0m\u001b[0;34m)\u001b[0m\u001b[0;34m\u001b[0m\u001b[0;34m\u001b[0m\u001b[0m\n\u001b[0;32m----> 3\u001b[0;31m \u001b[0mopenTar\u001b[0m\u001b[0;34m(\u001b[0m\u001b[0;34m\"train-0.tar.gz\"\u001b[0m\u001b[0;34m)\u001b[0m\u001b[0;34m\u001b[0m\u001b[0;34m\u001b[0m\u001b[0m\n\u001b[0m\u001b[1;32m      4\u001b[0m \u001b[0mget_ipython\u001b[0m\u001b[0;34m(\u001b[0m\u001b[0;34m)\u001b[0m\u001b[0;34m.\u001b[0m\u001b[0msystem\u001b[0m\u001b[0;34m(\u001b[0m\u001b[0;34m'rm train-0.tar.gz'\u001b[0m\u001b[0;34m)\u001b[0m\u001b[0;34m\u001b[0m\u001b[0;34m\u001b[0m\u001b[0m\n\u001b[1;32m      5\u001b[0m \u001b[0;34m\u001b[0m\u001b[0m\n",
            "\u001b[0;32m<ipython-input-9-76053b3515fc>\u001b[0m in \u001b[0;36mopenTar\u001b[0;34m(Name)\u001b[0m\n\u001b[1;32m      1\u001b[0m \u001b[0;32mdef\u001b[0m \u001b[0mopenTar\u001b[0m\u001b[0;34m(\u001b[0m\u001b[0mName\u001b[0m\u001b[0;34m)\u001b[0m\u001b[0;34m:\u001b[0m\u001b[0;34m\u001b[0m\u001b[0;34m\u001b[0m\u001b[0m\n\u001b[1;32m      2\u001b[0m   \u001b[0mtar\u001b[0m \u001b[0;34m=\u001b[0m \u001b[0mtarfile\u001b[0m\u001b[0;34m.\u001b[0m\u001b[0mopen\u001b[0m\u001b[0;34m(\u001b[0m\u001b[0mName\u001b[0m\u001b[0;34m)\u001b[0m\u001b[0;34m\u001b[0m\u001b[0;34m\u001b[0m\u001b[0m\n\u001b[0;32m----> 3\u001b[0;31m   \u001b[0mtar\u001b[0m\u001b[0;34m.\u001b[0m\u001b[0mextractall\u001b[0m\u001b[0;34m(\u001b[0m\u001b[0;34m)\u001b[0m\u001b[0;34m\u001b[0m\u001b[0;34m\u001b[0m\u001b[0m\n\u001b[0m\u001b[1;32m      4\u001b[0m   \u001b[0mtar\u001b[0m\u001b[0;34m.\u001b[0m\u001b[0mclose\u001b[0m\u001b[0;34m(\u001b[0m\u001b[0;34m)\u001b[0m\u001b[0;34m\u001b[0m\u001b[0;34m\u001b[0m\u001b[0m\n\u001b[1;32m      5\u001b[0m   \u001b[0mprint\u001b[0m\u001b[0;34m(\u001b[0m\u001b[0mName\u001b[0m \u001b[0;34m+\u001b[0m \u001b[0;34m\" entpacked\"\u001b[0m\u001b[0;34m)\u001b[0m\u001b[0;34m\u001b[0m\u001b[0;34m\u001b[0m\u001b[0m\n",
            "\u001b[0;32m/usr/lib/python3.6/tarfile.py\u001b[0m in \u001b[0;36mextractall\u001b[0;34m(self, path, members, numeric_owner)\u001b[0m\n\u001b[1;32m   2008\u001b[0m             \u001b[0;31m# Do not set_attrs directories, as we will do that further down\u001b[0m\u001b[0;34m\u001b[0m\u001b[0;34m\u001b[0m\u001b[0;34m\u001b[0m\u001b[0m\n\u001b[1;32m   2009\u001b[0m             self.extract(tarinfo, path, set_attrs=not tarinfo.isdir(),\n\u001b[0;32m-> 2010\u001b[0;31m                          numeric_owner=numeric_owner)\n\u001b[0m\u001b[1;32m   2011\u001b[0m \u001b[0;34m\u001b[0m\u001b[0m\n\u001b[1;32m   2012\u001b[0m         \u001b[0;31m# Reverse sort directories.\u001b[0m\u001b[0;34m\u001b[0m\u001b[0;34m\u001b[0m\u001b[0;34m\u001b[0m\u001b[0m\n",
            "\u001b[0;32m/usr/lib/python3.6/tarfile.py\u001b[0m in \u001b[0;36mextract\u001b[0;34m(self, member, path, set_attrs, numeric_owner)\u001b[0m\n\u001b[1;32m   2050\u001b[0m             self._extract_member(tarinfo, os.path.join(path, tarinfo.name),\n\u001b[1;32m   2051\u001b[0m                                  \u001b[0mset_attrs\u001b[0m\u001b[0;34m=\u001b[0m\u001b[0mset_attrs\u001b[0m\u001b[0;34m,\u001b[0m\u001b[0;34m\u001b[0m\u001b[0;34m\u001b[0m\u001b[0m\n\u001b[0;32m-> 2052\u001b[0;31m                                  numeric_owner=numeric_owner)\n\u001b[0m\u001b[1;32m   2053\u001b[0m         \u001b[0;32mexcept\u001b[0m \u001b[0mOSError\u001b[0m \u001b[0;32mas\u001b[0m \u001b[0me\u001b[0m\u001b[0;34m:\u001b[0m\u001b[0;34m\u001b[0m\u001b[0;34m\u001b[0m\u001b[0m\n\u001b[1;32m   2054\u001b[0m             \u001b[0;32mif\u001b[0m \u001b[0mself\u001b[0m\u001b[0;34m.\u001b[0m\u001b[0merrorlevel\u001b[0m \u001b[0;34m>\u001b[0m \u001b[0;36m0\u001b[0m\u001b[0;34m:\u001b[0m\u001b[0;34m\u001b[0m\u001b[0;34m\u001b[0m\u001b[0m\n",
            "\u001b[0;32m/usr/lib/python3.6/tarfile.py\u001b[0m in \u001b[0;36m_extract_member\u001b[0;34m(self, tarinfo, targetpath, set_attrs, numeric_owner)\u001b[0m\n\u001b[1;32m   2120\u001b[0m \u001b[0;34m\u001b[0m\u001b[0m\n\u001b[1;32m   2121\u001b[0m         \u001b[0;32mif\u001b[0m \u001b[0mtarinfo\u001b[0m\u001b[0;34m.\u001b[0m\u001b[0misreg\u001b[0m\u001b[0;34m(\u001b[0m\u001b[0;34m)\u001b[0m\u001b[0;34m:\u001b[0m\u001b[0;34m\u001b[0m\u001b[0;34m\u001b[0m\u001b[0m\n\u001b[0;32m-> 2122\u001b[0;31m             \u001b[0mself\u001b[0m\u001b[0;34m.\u001b[0m\u001b[0mmakefile\u001b[0m\u001b[0;34m(\u001b[0m\u001b[0mtarinfo\u001b[0m\u001b[0;34m,\u001b[0m \u001b[0mtargetpath\u001b[0m\u001b[0;34m)\u001b[0m\u001b[0;34m\u001b[0m\u001b[0;34m\u001b[0m\u001b[0m\n\u001b[0m\u001b[1;32m   2123\u001b[0m         \u001b[0;32melif\u001b[0m \u001b[0mtarinfo\u001b[0m\u001b[0;34m.\u001b[0m\u001b[0misdir\u001b[0m\u001b[0;34m(\u001b[0m\u001b[0;34m)\u001b[0m\u001b[0;34m:\u001b[0m\u001b[0;34m\u001b[0m\u001b[0;34m\u001b[0m\u001b[0m\n\u001b[1;32m   2124\u001b[0m             \u001b[0mself\u001b[0m\u001b[0;34m.\u001b[0m\u001b[0mmakedir\u001b[0m\u001b[0;34m(\u001b[0m\u001b[0mtarinfo\u001b[0m\u001b[0;34m,\u001b[0m \u001b[0mtargetpath\u001b[0m\u001b[0;34m)\u001b[0m\u001b[0;34m\u001b[0m\u001b[0;34m\u001b[0m\u001b[0m\n",
            "\u001b[0;32m/usr/lib/python3.6/tarfile.py\u001b[0m in \u001b[0;36mmakefile\u001b[0;34m(self, tarinfo, targetpath)\u001b[0m\n\u001b[1;32m   2169\u001b[0m                 \u001b[0mtarget\u001b[0m\u001b[0;34m.\u001b[0m\u001b[0mtruncate\u001b[0m\u001b[0;34m(\u001b[0m\u001b[0;34m)\u001b[0m\u001b[0;34m\u001b[0m\u001b[0;34m\u001b[0m\u001b[0m\n\u001b[1;32m   2170\u001b[0m             \u001b[0;32melse\u001b[0m\u001b[0;34m:\u001b[0m\u001b[0;34m\u001b[0m\u001b[0;34m\u001b[0m\u001b[0m\n\u001b[0;32m-> 2171\u001b[0;31m                 \u001b[0mcopyfileobj\u001b[0m\u001b[0;34m(\u001b[0m\u001b[0msource\u001b[0m\u001b[0;34m,\u001b[0m \u001b[0mtarget\u001b[0m\u001b[0;34m,\u001b[0m \u001b[0mtarinfo\u001b[0m\u001b[0;34m.\u001b[0m\u001b[0msize\u001b[0m\u001b[0;34m,\u001b[0m \u001b[0mReadError\u001b[0m\u001b[0;34m,\u001b[0m \u001b[0mbufsize\u001b[0m\u001b[0;34m)\u001b[0m\u001b[0;34m\u001b[0m\u001b[0;34m\u001b[0m\u001b[0m\n\u001b[0m\u001b[1;32m   2172\u001b[0m \u001b[0;34m\u001b[0m\u001b[0m\n\u001b[1;32m   2173\u001b[0m     \u001b[0;32mdef\u001b[0m \u001b[0mmakeunknown\u001b[0m\u001b[0;34m(\u001b[0m\u001b[0mself\u001b[0m\u001b[0;34m,\u001b[0m \u001b[0mtarinfo\u001b[0m\u001b[0;34m,\u001b[0m \u001b[0mtargetpath\u001b[0m\u001b[0;34m)\u001b[0m\u001b[0;34m:\u001b[0m\u001b[0;34m\u001b[0m\u001b[0;34m\u001b[0m\u001b[0m\n",
            "\u001b[0;32m/usr/lib/python3.6/tarfile.py\u001b[0m in \u001b[0;36mcopyfileobj\u001b[0;34m(src, dst, length, exception, bufsize)\u001b[0m\n\u001b[1;32m    247\u001b[0m     \u001b[0mblocks\u001b[0m\u001b[0;34m,\u001b[0m \u001b[0mremainder\u001b[0m \u001b[0;34m=\u001b[0m \u001b[0mdivmod\u001b[0m\u001b[0;34m(\u001b[0m\u001b[0mlength\u001b[0m\u001b[0;34m,\u001b[0m \u001b[0mbufsize\u001b[0m\u001b[0;34m)\u001b[0m\u001b[0;34m\u001b[0m\u001b[0;34m\u001b[0m\u001b[0m\n\u001b[1;32m    248\u001b[0m     \u001b[0;32mfor\u001b[0m \u001b[0mb\u001b[0m \u001b[0;32min\u001b[0m \u001b[0mrange\u001b[0m\u001b[0;34m(\u001b[0m\u001b[0mblocks\u001b[0m\u001b[0;34m)\u001b[0m\u001b[0;34m:\u001b[0m\u001b[0;34m\u001b[0m\u001b[0;34m\u001b[0m\u001b[0m\n\u001b[0;32m--> 249\u001b[0;31m         \u001b[0mbuf\u001b[0m \u001b[0;34m=\u001b[0m \u001b[0msrc\u001b[0m\u001b[0;34m.\u001b[0m\u001b[0mread\u001b[0m\u001b[0;34m(\u001b[0m\u001b[0mbufsize\u001b[0m\u001b[0;34m)\u001b[0m\u001b[0;34m\u001b[0m\u001b[0;34m\u001b[0m\u001b[0m\n\u001b[0m\u001b[1;32m    250\u001b[0m         \u001b[0;32mif\u001b[0m \u001b[0mlen\u001b[0m\u001b[0;34m(\u001b[0m\u001b[0mbuf\u001b[0m\u001b[0;34m)\u001b[0m \u001b[0;34m<\u001b[0m \u001b[0mbufsize\u001b[0m\u001b[0;34m:\u001b[0m\u001b[0;34m\u001b[0m\u001b[0;34m\u001b[0m\u001b[0m\n\u001b[1;32m    251\u001b[0m             \u001b[0;32mraise\u001b[0m \u001b[0mexception\u001b[0m\u001b[0;34m(\u001b[0m\u001b[0;34m\"unexpected end of data\"\u001b[0m\u001b[0;34m)\u001b[0m\u001b[0;34m\u001b[0m\u001b[0;34m\u001b[0m\u001b[0m\n",
            "\u001b[0;32m/usr/lib/python3.6/gzip.py\u001b[0m in \u001b[0;36mread\u001b[0;34m(self, size)\u001b[0m\n\u001b[1;32m    274\u001b[0m             \u001b[0;32mimport\u001b[0m \u001b[0merrno\u001b[0m\u001b[0;34m\u001b[0m\u001b[0;34m\u001b[0m\u001b[0m\n\u001b[1;32m    275\u001b[0m             \u001b[0;32mraise\u001b[0m \u001b[0mOSError\u001b[0m\u001b[0;34m(\u001b[0m\u001b[0merrno\u001b[0m\u001b[0;34m.\u001b[0m\u001b[0mEBADF\u001b[0m\u001b[0;34m,\u001b[0m \u001b[0;34m\"read() on write-only GzipFile object\"\u001b[0m\u001b[0;34m)\u001b[0m\u001b[0;34m\u001b[0m\u001b[0;34m\u001b[0m\u001b[0m\n\u001b[0;32m--> 276\u001b[0;31m         \u001b[0;32mreturn\u001b[0m \u001b[0mself\u001b[0m\u001b[0;34m.\u001b[0m\u001b[0m_buffer\u001b[0m\u001b[0;34m.\u001b[0m\u001b[0mread\u001b[0m\u001b[0;34m(\u001b[0m\u001b[0msize\u001b[0m\u001b[0;34m)\u001b[0m\u001b[0;34m\u001b[0m\u001b[0;34m\u001b[0m\u001b[0m\n\u001b[0m\u001b[1;32m    277\u001b[0m \u001b[0;34m\u001b[0m\u001b[0m\n\u001b[1;32m    278\u001b[0m     \u001b[0;32mdef\u001b[0m \u001b[0mread1\u001b[0m\u001b[0;34m(\u001b[0m\u001b[0mself\u001b[0m\u001b[0;34m,\u001b[0m \u001b[0msize\u001b[0m\u001b[0;34m=\u001b[0m\u001b[0;34m-\u001b[0m\u001b[0;36m1\u001b[0m\u001b[0;34m)\u001b[0m\u001b[0;34m:\u001b[0m\u001b[0;34m\u001b[0m\u001b[0;34m\u001b[0m\u001b[0m\n",
            "\u001b[0;32m/usr/lib/python3.6/_compression.py\u001b[0m in \u001b[0;36mreadinto\u001b[0;34m(self, b)\u001b[0m\n\u001b[1;32m     66\u001b[0m     \u001b[0;32mdef\u001b[0m \u001b[0mreadinto\u001b[0m\u001b[0;34m(\u001b[0m\u001b[0mself\u001b[0m\u001b[0;34m,\u001b[0m \u001b[0mb\u001b[0m\u001b[0;34m)\u001b[0m\u001b[0;34m:\u001b[0m\u001b[0;34m\u001b[0m\u001b[0;34m\u001b[0m\u001b[0m\n\u001b[1;32m     67\u001b[0m         \u001b[0;32mwith\u001b[0m \u001b[0mmemoryview\u001b[0m\u001b[0;34m(\u001b[0m\u001b[0mb\u001b[0m\u001b[0;34m)\u001b[0m \u001b[0;32mas\u001b[0m \u001b[0mview\u001b[0m\u001b[0;34m,\u001b[0m \u001b[0mview\u001b[0m\u001b[0;34m.\u001b[0m\u001b[0mcast\u001b[0m\u001b[0;34m(\u001b[0m\u001b[0;34m\"B\"\u001b[0m\u001b[0;34m)\u001b[0m \u001b[0;32mas\u001b[0m \u001b[0mbyte_view\u001b[0m\u001b[0;34m:\u001b[0m\u001b[0;34m\u001b[0m\u001b[0;34m\u001b[0m\u001b[0m\n\u001b[0;32m---> 68\u001b[0;31m             \u001b[0mdata\u001b[0m \u001b[0;34m=\u001b[0m \u001b[0mself\u001b[0m\u001b[0;34m.\u001b[0m\u001b[0mread\u001b[0m\u001b[0;34m(\u001b[0m\u001b[0mlen\u001b[0m\u001b[0;34m(\u001b[0m\u001b[0mbyte_view\u001b[0m\u001b[0;34m)\u001b[0m\u001b[0;34m)\u001b[0m\u001b[0;34m\u001b[0m\u001b[0;34m\u001b[0m\u001b[0m\n\u001b[0m\u001b[1;32m     69\u001b[0m             \u001b[0mbyte_view\u001b[0m\u001b[0;34m[\u001b[0m\u001b[0;34m:\u001b[0m\u001b[0mlen\u001b[0m\u001b[0;34m(\u001b[0m\u001b[0mdata\u001b[0m\u001b[0;34m)\u001b[0m\u001b[0;34m]\u001b[0m \u001b[0;34m=\u001b[0m \u001b[0mdata\u001b[0m\u001b[0;34m\u001b[0m\u001b[0;34m\u001b[0m\u001b[0m\n\u001b[1;32m     70\u001b[0m         \u001b[0;32mreturn\u001b[0m \u001b[0mlen\u001b[0m\u001b[0;34m(\u001b[0m\u001b[0mdata\u001b[0m\u001b[0;34m)\u001b[0m\u001b[0;34m\u001b[0m\u001b[0;34m\u001b[0m\u001b[0m\n",
            "\u001b[0;32m/usr/lib/python3.6/gzip.py\u001b[0m in \u001b[0;36mread\u001b[0;34m(self, size)\u001b[0m\n\u001b[1;32m    469\u001b[0m             \u001b[0mbuf\u001b[0m \u001b[0;34m=\u001b[0m \u001b[0mself\u001b[0m\u001b[0;34m.\u001b[0m\u001b[0m_fp\u001b[0m\u001b[0;34m.\u001b[0m\u001b[0mread\u001b[0m\u001b[0;34m(\u001b[0m\u001b[0mio\u001b[0m\u001b[0;34m.\u001b[0m\u001b[0mDEFAULT_BUFFER_SIZE\u001b[0m\u001b[0;34m)\u001b[0m\u001b[0;34m\u001b[0m\u001b[0;34m\u001b[0m\u001b[0m\n\u001b[1;32m    470\u001b[0m \u001b[0;34m\u001b[0m\u001b[0m\n\u001b[0;32m--> 471\u001b[0;31m             \u001b[0muncompress\u001b[0m \u001b[0;34m=\u001b[0m \u001b[0mself\u001b[0m\u001b[0;34m.\u001b[0m\u001b[0m_decompressor\u001b[0m\u001b[0;34m.\u001b[0m\u001b[0mdecompress\u001b[0m\u001b[0;34m(\u001b[0m\u001b[0mbuf\u001b[0m\u001b[0;34m,\u001b[0m \u001b[0msize\u001b[0m\u001b[0;34m)\u001b[0m\u001b[0;34m\u001b[0m\u001b[0;34m\u001b[0m\u001b[0m\n\u001b[0m\u001b[1;32m    472\u001b[0m             \u001b[0;32mif\u001b[0m \u001b[0mself\u001b[0m\u001b[0;34m.\u001b[0m\u001b[0m_decompressor\u001b[0m\u001b[0;34m.\u001b[0m\u001b[0munconsumed_tail\u001b[0m \u001b[0;34m!=\u001b[0m \u001b[0;34mb\"\"\u001b[0m\u001b[0;34m:\u001b[0m\u001b[0;34m\u001b[0m\u001b[0;34m\u001b[0m\u001b[0m\n\u001b[1;32m    473\u001b[0m                 \u001b[0mself\u001b[0m\u001b[0;34m.\u001b[0m\u001b[0m_fp\u001b[0m\u001b[0;34m.\u001b[0m\u001b[0mprepend\u001b[0m\u001b[0;34m(\u001b[0m\u001b[0mself\u001b[0m\u001b[0;34m.\u001b[0m\u001b[0m_decompressor\u001b[0m\u001b[0;34m.\u001b[0m\u001b[0munconsumed_tail\u001b[0m\u001b[0;34m)\u001b[0m\u001b[0;34m\u001b[0m\u001b[0;34m\u001b[0m\u001b[0m\n",
            "\u001b[0;31mKeyboardInterrupt\u001b[0m: "
          ]
        }
      ]
    },
    {
      "cell_type": "code",
      "metadata": {
        "id": "6H7QBtqb6wK3",
        "colab_type": "code",
        "colab": {}
      },
      "source": [
        "StringToJson = 'publaynet/train.json'\n",
        "StringToFolder = 'publaynet/train/'\n",
        "\n",
        "NumberPerTirm = 1000\n",
        "\n",
        "# 335,703 Bilder"
      ],
      "execution_count": null,
      "outputs": []
    },
    {
      "cell_type": "code",
      "metadata": {
        "id": "u5-jiK-gD24n",
        "colab_type": "code",
        "colab": {}
      },
      "source": [
        "testArray = []\n",
        "\n",
        "with open(StringToJson, 'r') as fp:\n",
        "    samples = json.load(fp)\n",
        "# Index images\n",
        "images = {}\n",
        "for image in samples['images']:\n",
        "    testArray.append(image['id'])\n",
        "    images[image['id']] = {'file_name': StringToFolder + image['file_name'], 'annotations': []}\n",
        "for ann in samples['annotations']:\n",
        "    images[ann['image_id']]['annotations'].append(ann)"
      ],
      "execution_count": null,
      "outputs": []
    },
    {
      "cell_type": "code",
      "metadata": {
        "id": "X2OeoSwJG5bn",
        "colab_type": "code",
        "colab": {}
      },
      "source": [
        "def load(test):\n",
        "  Train = []\n",
        "  Lösung = []\n",
        "  for i, (_, image) in enumerate(test.items()):\n",
        "    try:\n",
        "      TempImage, ZielMuster = markup(image['file_name'], image['annotations'])\n",
        "      Train.append(TempImage)\n",
        "      Lösung.append(ZielMuster)\n",
        "    except Exception:\n",
        "      continue\n",
        "\n",
        "  Train = np.array(Train)\n",
        "  Lösung = np.array(Lösung)\n",
        "  return Train, Lösung"
      ],
      "execution_count": null,
      "outputs": []
    },
    {
      "cell_type": "code",
      "metadata": {
        "id": "mzWj9Scy9MO1",
        "colab_type": "code",
        "colab": {}
      },
      "source": [
        "for p in range(0,335703,NumberPerTirm):\n",
        "  print(\"Starte bei Bild --------------- \" + str(p))\n",
        "\n",
        "  test = {}\n",
        "  for _ in range(NumberPerTirm):\n",
        "    id = testArray.pop(0)\n",
        "    test[id] = images[id]\n",
        "\n",
        "  x,y = load(test)\n",
        "\n",
        "  print(len(x))\n",
        "\n",
        "  model.fit(Train, Lösung, epochs= 32 ,batch_size = 4, validation_split=0.3 , callbacks=[csv_logger, checkpoint])\n",
        "\n",
        "  model.save('model' + str(i))"
      ],
      "execution_count": null,
      "outputs": []
    },
    {
      "cell_type": "markdown",
      "metadata": {
        "id": "Q6iogP-OSBrU",
        "colab_type": "text"
      },
      "source": [
        "# Auswertung\n"
      ]
    },
    {
      "cell_type": "code",
      "metadata": {
        "id": "m0GaD3vqSC8f",
        "colab_type": "code",
        "colab": {}
      },
      "source": [
        "plt.xkcd()"
      ],
      "execution_count": null,
      "outputs": []
    },
    {
      "cell_type": "code",
      "metadata": {
        "id": "CdsVt7zlGNab",
        "colab_type": "code",
        "colab": {}
      },
      "source": [
        "Model_epoch = []\n",
        "Model_loss = []\n",
        "Model_val_loss = []\n",
        "\n",
        "with open('log.csv', newline='') as csvfile:\n",
        "    spamreader = csv.reader(csvfile, delimiter=';')\n",
        "    header = next(spamreader)\n",
        "    for row in spamreader:\n",
        "         Wert = row[0]\n",
        "         Model_epoch.append(float(Wert))\n",
        "         Wert = row[1]\n",
        "         Model_loss.append(float(Wert))\n",
        "         Wert = row[2]\n",
        "         Model_val_loss.append(float(Wert))\n",
        "\n",
        "Model1_epoch = Model1_epoch[1:]\n",
        "Model1_loss = Model1_loss[1:]\n",
        "Model1_val_loss = Model1_val_loss[1:]"
      ],
      "execution_count": null,
      "outputs": []
    },
    {
      "cell_type": "code",
      "metadata": {
        "id": "4cP8s5l8SFNT",
        "colab_type": "code",
        "colab": {}
      },
      "source": [
        "plt.plot(Model_loss, label = 'val_loss')\n",
        "plt.plot(Model_val_loss, label = 'loss')\n",
        "\n",
        "plt.xlabel('Epoch')\n",
        "plt.ylabel('Loss')\n",
        "plt.ylim([0, 5])\n",
        "plt.legend(loc='center right')\n",
        "plt.show()"
      ],
      "execution_count": null,
      "outputs": []
    },
    {
      "cell_type": "markdown",
      "metadata": {
        "id": "ZuGWjyzVSL87",
        "colab_type": "text"
      },
      "source": [
        "# Analyse"
      ]
    },
    {
      "cell_type": "code",
      "metadata": {
        "id": "yXNIjxOwtVe3",
        "colab_type": "code",
        "colab": {}
      },
      "source": [
        "# Daten Laden\n",
        "!curl https://dax-cdn.cdn.appdomain.cloud/dax-publaynet/1.0.0/examples.tar.gz --output \"examples.tar.gz\"\n",
        "\n",
        "openTar(\"examples.tar.gz\")\n",
        "\n",
        "StringToJSON = 'examples/samples.json'\n",
        "StringToFolder = 'examples/'\n",
        "\n",
        "x,y = loadData(StringToJSON, StringToFolder)"
      ],
      "execution_count": null,
      "outputs": []
    }
  ]
}