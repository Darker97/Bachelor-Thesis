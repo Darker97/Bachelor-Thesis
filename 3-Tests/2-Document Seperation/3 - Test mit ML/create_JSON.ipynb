{
  "nbformat": 4,
  "nbformat_minor": 0,
  "metadata": {
    "colab": {
      "name": "create JSON.ipynb",
      "provenance": [],
      "toc_visible": true
    },
    "kernelspec": {
      "name": "python3",
      "display_name": "Python 3"
    }
  },
  "cells": [
    {
      "cell_type": "markdown",
      "metadata": {
        "id": "KhT43btcQXh1",
        "colab_type": "text"
      },
      "source": [
        "# laden"
      ]
    },
    {
      "cell_type": "code",
      "metadata": {
        "id": "Qd1pp_GPQTz-",
        "colab_type": "code",
        "colab": {
          "base_uri": "https://localhost:8080/",
          "height": 34
        },
        "outputId": "9e1a12b8-5a40-4383-80c7-2b4ba24af4a4"
      },
      "source": [
        "import sys\n",
        "import requests\n",
        "import tarfile\n",
        "import json\n",
        "import numpy as np\n",
        "from os import path\n",
        "from PIL import Image\n",
        "from PIL import ImageFont, ImageDraw\n",
        "from glob import glob\n",
        "from matplotlib import pyplot as plt\n",
        "import cv2\n",
        "\n",
        "import random\n",
        "from tqdm import tqdm\n",
        "\n",
        "import re\n",
        "import tensorflow as tf\n",
        "from tensorflow import keras\n",
        "import matplotlib.pyplot as plt\n",
        "from tensorflow.keras.callbacks import CSVLogger\n",
        "\n",
        "from keras.applications import MobileNetV2\n",
        "\n",
        "from keras.layers import *\n",
        "from keras.models import Model"
      ],
      "execution_count": 4,
      "outputs": [
        {
          "output_type": "stream",
          "text": [
            "Using TensorFlow backend.\n"
          ],
          "name": "stderr"
        }
      ]
    },
    {
      "cell_type": "code",
      "metadata": {
        "id": "a5jh-mBYQWb-",
        "colab_type": "code",
        "colab": {}
      },
      "source": [
        "def openTar(Name):\n",
        "  tar = tarfile.open(Name)\n",
        "  tar.extractall()\n",
        "  tar.close()\n",
        "  print(Name + \" entpacked\")\n"
      ],
      "execution_count": 5,
      "outputs": []
    },
    {
      "cell_type": "code",
      "metadata": {
        "id": "mj623tfZPrbW",
        "colab_type": "code",
        "colab": {
          "base_uri": "https://localhost:8080/",
          "height": 86
        },
        "outputId": "cafdef7f-06ba-4846-fb9e-9ac99bc3f9f0"
      },
      "source": [
        "!curl https://dax-cdn.cdn.appdomain.cloud/dax-publaynet/1.0.0/labels.tar.gz --output \"labels.tar.gz\"\n",
        "openTar(\"labels.tar.gz\")\n",
        "!rm labels.tar.gz\n",
        "\n",
        "StringToJson = 'publaynet/val.json'\n",
        "StringToFolder = 'publaynet/val/'"
      ],
      "execution_count": 6,
      "outputs": [
        {
          "output_type": "stream",
          "text": [
            "  % Total    % Received % Xferd  Average Speed   Time    Time     Time  Current\n",
            "                                 Dload  Upload   Total   Spent    Left  Speed\n",
            "100  313M  100  313M    0     0   110M      0  0:00:02  0:00:02 --:--:--  110M\n",
            "labels.tar.gz entpacked\n"
          ],
          "name": "stdout"
        }
      ]
    },
    {
      "cell_type": "code",
      "metadata": {
        "id": "ejfLOn6LWU_2",
        "colab_type": "code",
        "colab": {
          "base_uri": "https://localhost:8080/",
          "height": 86
        },
        "outputId": "098136a6-4d27-4807-e503-2166e64adfef"
      },
      "source": [
        "!curl https://dax-cdn.cdn.appdomain.cloud/dax-publaynet/1.0.0/examples.tar.gz --output \"examples.tar.gz\"\n",
        "openTar(\"examples.tar.gz\")\n",
        "!rm examples.tar.gz\n",
        "\n",
        "StringToJson = 'examples/samples.json'\n",
        "StringToFolder = 'examples/'"
      ],
      "execution_count": 32,
      "outputs": [
        {
          "output_type": "stream",
          "text": [
            "  % Total    % Received % Xferd  Average Speed   Time    Time     Time  Current\n",
            "                                 Dload  Upload   Total   Spent    Left  Speed\n",
            "100 6309k  100 6309k    0     0  9603k      0 --:--:-- --:--:-- --:--:-- 9589k\n",
            "examples.tar.gz entpacked\n"
          ],
          "name": "stdout"
        }
      ]
    },
    {
      "cell_type": "code",
      "metadata": {
        "id": "jUjQguzYP6yS",
        "colab_type": "code",
        "colab": {}
      },
      "source": [
        "with open(StringToJson, 'r') as fp:\n",
        "    samples = json.load(fp)\n",
        "# Index images\n",
        "images = {}\n",
        "for image in samples['images']:\n",
        "    images[image['id']] = {'file_name': image['file_name'], 'annotations': []}\n",
        "for ann in samples['annotations']:\n",
        "    images[ann['image_id']]['annotations'].append(ann)\n"
      ],
      "execution_count": 33,
      "outputs": []
    },
    {
      "cell_type": "markdown",
      "metadata": {
        "id": "ZK_5V8jBQRqI",
        "colab_type": "text"
      },
      "source": [
        "# Umwandlung"
      ]
    },
    {
      "cell_type": "code",
      "metadata": {
        "id": "x6WmJOUkQQst",
        "colab_type": "code",
        "colab": {}
      },
      "source": [
        "def markup(BildWeg, annotations):\n",
        "  # laden der Zusatdaten\n",
        "  Object = {}\n",
        "\n",
        "  Object['image'] = BildWeg\n",
        "  Object['annotations'] = []\n",
        "\n",
        "  for annotation in annotations:\n",
        "    # \"bbox\": [37.59, 433.64, 251.07, 20.38]\n",
        "    temp = {}\n",
        "    temp['label'] = 'found'\n",
        "\n",
        "    # Left, Top, Right, Bottom = annotation['bbox'][0], annotation['bbox'][1], annotation['bbox'][2], annotation['bbox'][3]\n",
        "\n",
        "    temp_coordinates = {}\n",
        "    temp_coordinates['x'], temp_coordinates['y'], temp_coordinates['width'], temp_coordinates['height'] = annotation['bbox'][0], annotation['bbox'][1], annotation['bbox'][2], annotation['bbox'][3]\n",
        "\n",
        "\n",
        "    temp['coordinates'] = temp_coordinates\n",
        "\n",
        "    Object['annotations'].append(temp)\n",
        "\n",
        "  return Object"
      ],
      "execution_count": 28,
      "outputs": []
    },
    {
      "cell_type": "code",
      "metadata": {
        "id": "4EY88AsQP9H6",
        "colab_type": "code",
        "colab": {}
      },
      "source": [
        "Ziel = []\n",
        "\n",
        "for i, (_, image) in enumerate(images.items()):\n",
        "  temp = markup(image['file_name'], image['annotations'])\n",
        "  Ziel.append(temp)"
      ],
      "execution_count": 34,
      "outputs": []
    },
    {
      "cell_type": "code",
      "metadata": {
        "id": "kZYPZKqOTaX7",
        "colab_type": "code",
        "colab": {
          "base_uri": "https://localhost:8080/",
          "height": 54
        },
        "outputId": "54638526-af10-46a2-d917-5a49df637d75"
      },
      "source": [
        "print(Ziel[0])"
      ],
      "execution_count": 35,
      "outputs": [
        {
          "output_type": "stream",
          "text": [
            "{'image': 'PMC5491943_00004.jpg', 'annotations': [{'label': 'found', 'coordinates': {'x': 121.89, 'y': 41.8, 'width': 427.99, 'height': 34.5}}, {'label': 'found', 'coordinates': {'x': 121.89, 'y': 83.47, 'width': 427.94, 'height': 46.5}}, {'label': 'found', 'coordinates': {'x': 121.89, 'y': 163.31, 'width': 428.08, 'height': 83.69}}, {'label': 'found', 'coordinates': {'x': 121.89, 'y': 254.37, 'width': 427.96, 'height': 108.09}}, {'label': 'found', 'coordinates': {'x': 121.89, 'y': 369.82, 'width': 214.62, 'height': 10.51}}, {'label': 'found', 'coordinates': {'x': 121.89, 'y': 653.61, 'width': 340.22, 'height': 10.51}}, {'label': 'found', 'coordinates': {'x': 121.89, 'y': 671.48, 'width': 427.98, 'height': 59.3}}, {'label': 'found', 'coordinates': {'x': 121.89, 'y': 387.69, 'width': 428.0, 'height': 221.88}}, {'label': 'found', 'coordinates': {'x': 121.89, 'y': 144.1, 'width': 104.54, 'height': 12.47}}, {'label': 'found', 'coordinates': {'x': 121.89, 'y': 632.39, 'width': 61.4, 'height': 14.02}}]}\n"
          ],
          "name": "stdout"
        }
      ]
    },
    {
      "cell_type": "code",
      "metadata": {
        "id": "ighaljSDS5f5",
        "colab_type": "code",
        "colab": {}
      },
      "source": [
        "with open('Ziel.json', 'w') as json_file:\n",
        "  json.dump(Ziel, json_file)"
      ],
      "execution_count": 36,
      "outputs": []
    }
  ]
}