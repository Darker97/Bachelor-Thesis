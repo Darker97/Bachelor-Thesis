{
  "nbformat": 4,
  "nbformat_minor": 0,
  "metadata": {
    "colab": {
      "name": "Untitled1.ipynb",
      "provenance": [],
      "collapsed_sections": []
    },
    "kernelspec": {
      "name": "python3",
      "display_name": "Python 3"
    }
  },
  "cells": [
    {
      "cell_type": "markdown",
      "metadata": {
        "id": "xq0X0UgbsZ3A",
        "colab_type": "text"
      },
      "source": [
        "# Import"
      ]
    },
    {
      "cell_type": "code",
      "metadata": {
        "id": "Cl-7MedLsVGq",
        "colab_type": "code",
        "colab": {}
      },
      "source": [
        "import numpy as np\n",
        "import argparse\n",
        "import time\n",
        "import cv2\n",
        "import os"
      ],
      "execution_count": 28,
      "outputs": []
    },
    {
      "cell_type": "code",
      "metadata": {
        "id": "mRKhtn4Csc6M",
        "colab_type": "code",
        "colab": {}
      },
      "source": [
        "Path_image = \"/content/drive/My Drive/CustomData/Test4.png\"\n",
        "Path_cfg  = \"/content/drive/My Drive/data/yolov3_custom.cfg\"\n",
        "Path_weight = \"/content/drive/My Drive/backup/Backup5.weights\"\n",
        "Path_classes = \"/content/drive/My Drive/CustomData/class.names\"\n",
        "confidence = 0.5\n"
      ],
      "execution_count": 29,
      "outputs": []
    },
    {
      "cell_type": "code",
      "metadata": {
        "id": "41SMpOhZteLB",
        "colab_type": "code",
        "colab": {}
      },
      "source": [
        "image = cv2.imread(Path_image)"
      ],
      "execution_count": 30,
      "outputs": []
    },
    {
      "cell_type": "code",
      "metadata": {
        "id": "L1TMbgTmvCaD",
        "colab_type": "code",
        "colab": {}
      },
      "source": [
        "Width = image.shape[1]\n",
        "Height = image.shape[0]\n",
        "scale = 0.00392\n",
        "\n",
        "# read class names from text file\n",
        "classes = None\n",
        "with open(Path_classes, 'r') as f:\n",
        "    classes = [line.strip() for line in f.readlines()]\n",
        "\n",
        "# generate different colors for different classes \n",
        "COLORS = np.random.uniform(0, 255, size=(len(classes), 3))\n",
        "\n",
        "# read pre-trained model and config file\n",
        "net = cv2.dnn.readNet(Path_weight, Path_cfg)\n",
        "\n",
        "# create input blob \n",
        "blob = cv2.dnn.blobFromImage(image, scale, (416,416), (0,0,0), True, crop=False)\n",
        "\n",
        "# set input blob for the network\n",
        "net.setInput(blob)"
      ],
      "execution_count": 31,
      "outputs": []
    },
    {
      "cell_type": "code",
      "metadata": {
        "id": "gt6fim_UvbZJ",
        "colab_type": "code",
        "colab": {}
      },
      "source": [
        "def get_output_layers(net):  \n",
        "    layer_names = net.getLayerNames()\n",
        "    output_layers = [layer_names[i[0] - 1] for i in net.getUnconnectedOutLayers()]\n",
        "    return output_layers\n",
        "\n",
        "# function to draw bounding box on the detected object with class name\n",
        "def draw_bounding_box(img, class_id, confidence, x, y, x_plus_w, y_plus_h):\n",
        "    label = str(classes[class_id])\n",
        "    color = COLORS[class_id]\n",
        "    cv2.rectangle(img, (x,y), (x_plus_w,y_plus_h), color, 2)\n",
        "    cv2.putText(img, label, (x-10,y-10), cv2.FONT_HERSHEY_SIMPLEX, 0.5, color, 2)\n"
      ],
      "execution_count": 32,
      "outputs": []
    },
    {
      "cell_type": "code",
      "metadata": {
        "id": "GfsSDD1PveFC",
        "colab_type": "code",
        "colab": {}
      },
      "source": [
        "# run inference through the network\n",
        "# and gather predictions from output layers\n",
        "outs = net.forward(get_output_layers(net))\n",
        "\n",
        "# initialization\n",
        "class_ids = []\n",
        "confidences = []\n",
        "boxes = []\n",
        "conf_threshold = 0.5\n",
        "nms_threshold = 0.4\n",
        "\n",
        "# for each detetion from each output layer \n",
        "# get the confidence, class id, bounding box params\n",
        "# and ignore weak detections (confidence < 0.5)\n",
        "for out in outs:\n",
        "    for detection in out:\n",
        "        scores = detection[5:]\n",
        "        class_id = np.argmax(scores)\n",
        "        confidence = scores[class_id]\n",
        "        if confidence > 0.5:\n",
        "            center_x = int(detection[0] * Width)\n",
        "            center_y = int(detection[1] * Height)\n",
        "            w = int(detection[2] * Width)\n",
        "            h = int(detection[3] * Height)\n",
        "            x = center_x - w / 2\n",
        "            y = center_y - h / 2\n",
        "            class_ids.append(class_id)\n",
        "            confidences.append(float(confidence))\n",
        "            boxes.append([x, y, w, h])"
      ],
      "execution_count": 33,
      "outputs": []
    },
    {
      "cell_type": "code",
      "metadata": {
        "id": "EbBLldYuvlGT",
        "colab_type": "code",
        "colab": {
          "base_uri": "https://localhost:8080/",
          "height": 34
        },
        "outputId": "4bb5ce40-4cbe-4fe1-acf3-9a06851392e5"
      },
      "source": [
        "# apply non-max suppression\n",
        "indices = cv2.dnn.NMSBoxes(boxes, confidences, conf_threshold, nms_threshold)\n",
        "\n",
        "# go through the detections remaining\n",
        "# after nms and draw bounding box\n",
        "for i in indices:\n",
        "    i = i[0]\n",
        "    box = boxes[i]\n",
        "    x = box[0]\n",
        "    y = box[1]\n",
        "    w = box[2]\n",
        "    h = box[3]\n",
        "    \n",
        "    draw_bounding_box(image, class_ids[i], confidences[i], round(x), round(y), round(x+w), round(y+h))\n",
        "    \n",
        " # save output image to disk\n",
        "cv2.imwrite(\"object-detection.jpg\", image)"
      ],
      "execution_count": 34,
      "outputs": [
        {
          "output_type": "execute_result",
          "data": {
            "text/plain": [
              "True"
            ]
          },
          "metadata": {
            "tags": []
          },
          "execution_count": 34
        }
      ]
    }
  ]
}